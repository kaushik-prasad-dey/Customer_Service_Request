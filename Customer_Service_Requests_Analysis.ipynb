{
  "nbformat": 4,
  "nbformat_minor": 0,
  "metadata": {
    "colab": {
      "name": "Customer_Service_Requests_Analysis.ipynb",
      "provenance": []
    },
    "kernelspec": {
      "name": "python3",
      "display_name": "Python 3"
    },
    "language_info": {
      "name": "python"
    }
  },
  "cells": [
    {
      "cell_type": "markdown",
      "source": [
        "**Project Customer Service Requests Analysis**"
      ],
      "metadata": {
        "id": "CtJ8VBcqRoBT"
      }
    },
    {
      "cell_type": "code",
      "source": [
        "### import libraries\n",
        "#for linear algebra\n",
        "import numpy as np\n",
        "# for data processing session\n",
        "import pandas as pd\n",
        "#for data visualization\n",
        "import matplotlib.pyplot as plt\n",
        "from matplotlib import style\n",
        "#seaborn is also data visualization library built on top of the matplotlib\n",
        "import seaborn as sns \n",
        "#now we use matplotlib inline which is used for the output of plotting commands is displayed inline within frontends like jupitar notebook. \n",
        "#Mainly used for inline plotting\n",
        "%matplotlib inline  "
      ],
      "metadata": {
        "id": "4XDd4EuiRw1V"
      },
      "execution_count": 135,
      "outputs": []
    },
    {
      "cell_type": "code",
      "source": [
        "#Now import the csv file\n",
        "Service_Request_csv = pd.read_csv(\"311_Service_Requests_from_2010_to_Present.csv\")"
      ],
      "metadata": {
        "colab": {
          "base_uri": "https://localhost:8080/"
        },
        "id": "te7-2b3gSQ3D",
        "outputId": "664f3518-4f8f-489d-d95e-c1f64ba99d27"
      },
      "execution_count": 136,
      "outputs": [
        {
          "output_type": "stream",
          "name": "stderr",
          "text": [
            "/usr/local/lib/python3.7/dist-packages/IPython/core/interactiveshell.py:2718: DtypeWarning: Columns (48,49) have mixed types.Specify dtype option on import or set low_memory=False.\n",
            "  interactivity=interactivity, compiler=compiler, result=result)\n"
          ]
        }
      ]
    },
    {
      "cell_type": "code",
      "source": [
        "#now showing the first five rows of the service request csv \n",
        "Service_Request_csv.head()"
      ],
      "metadata": {
        "colab": {
          "base_uri": "https://localhost:8080/",
          "height": 635
        },
        "id": "lfCq2YiGSe1E",
        "outputId": "a0ed8f6a-6331-489e-c0d2-eb05e41345ad"
      },
      "execution_count": 137,
      "outputs": [
        {
          "output_type": "execute_result",
          "data": {
            "text/html": [
              "\n",
              "  <div id=\"df-b0c51045-5ece-4c47-bab1-bcc8ddd49d59\">\n",
              "    <div class=\"colab-df-container\">\n",
              "      <div>\n",
              "<style scoped>\n",
              "    .dataframe tbody tr th:only-of-type {\n",
              "        vertical-align: middle;\n",
              "    }\n",
              "\n",
              "    .dataframe tbody tr th {\n",
              "        vertical-align: top;\n",
              "    }\n",
              "\n",
              "    .dataframe thead th {\n",
              "        text-align: right;\n",
              "    }\n",
              "</style>\n",
              "<table border=\"1\" class=\"dataframe\">\n",
              "  <thead>\n",
              "    <tr style=\"text-align: right;\">\n",
              "      <th></th>\n",
              "      <th>Unique Key</th>\n",
              "      <th>Created Date</th>\n",
              "      <th>Closed Date</th>\n",
              "      <th>Agency</th>\n",
              "      <th>Agency Name</th>\n",
              "      <th>Complaint Type</th>\n",
              "      <th>Descriptor</th>\n",
              "      <th>Location Type</th>\n",
              "      <th>Incident Zip</th>\n",
              "      <th>Incident Address</th>\n",
              "      <th>Street Name</th>\n",
              "      <th>Cross Street 1</th>\n",
              "      <th>Cross Street 2</th>\n",
              "      <th>Intersection Street 1</th>\n",
              "      <th>Intersection Street 2</th>\n",
              "      <th>Address Type</th>\n",
              "      <th>City</th>\n",
              "      <th>Landmark</th>\n",
              "      <th>Facility Type</th>\n",
              "      <th>Status</th>\n",
              "      <th>Due Date</th>\n",
              "      <th>Resolution Description</th>\n",
              "      <th>Resolution Action Updated Date</th>\n",
              "      <th>Community Board</th>\n",
              "      <th>Borough</th>\n",
              "      <th>X Coordinate (State Plane)</th>\n",
              "      <th>Y Coordinate (State Plane)</th>\n",
              "      <th>Park Facility Name</th>\n",
              "      <th>Park Borough</th>\n",
              "      <th>School Name</th>\n",
              "      <th>School Number</th>\n",
              "      <th>School Region</th>\n",
              "      <th>School Code</th>\n",
              "      <th>School Phone Number</th>\n",
              "      <th>School Address</th>\n",
              "      <th>School City</th>\n",
              "      <th>School State</th>\n",
              "      <th>School Zip</th>\n",
              "      <th>School Not Found</th>\n",
              "      <th>School or Citywide Complaint</th>\n",
              "      <th>Vehicle Type</th>\n",
              "      <th>Taxi Company Borough</th>\n",
              "      <th>Taxi Pick Up Location</th>\n",
              "      <th>Bridge Highway Name</th>\n",
              "      <th>Bridge Highway Direction</th>\n",
              "      <th>Road Ramp</th>\n",
              "      <th>Bridge Highway Segment</th>\n",
              "      <th>Garage Lot Name</th>\n",
              "      <th>Ferry Direction</th>\n",
              "      <th>Ferry Terminal Name</th>\n",
              "      <th>Latitude</th>\n",
              "      <th>Longitude</th>\n",
              "      <th>Location</th>\n",
              "    </tr>\n",
              "  </thead>\n",
              "  <tbody>\n",
              "    <tr>\n",
              "      <th>0</th>\n",
              "      <td>32310363</td>\n",
              "      <td>12/31/2015 11:59:45 PM</td>\n",
              "      <td>01-01-16 0:55</td>\n",
              "      <td>NYPD</td>\n",
              "      <td>New York City Police Department</td>\n",
              "      <td>Noise - Street/Sidewalk</td>\n",
              "      <td>Loud Music/Party</td>\n",
              "      <td>Street/Sidewalk</td>\n",
              "      <td>10034.0</td>\n",
              "      <td>71 VERMILYEA AVENUE</td>\n",
              "      <td>VERMILYEA AVENUE</td>\n",
              "      <td>ACADEMY STREET</td>\n",
              "      <td>WEST 204 STREET</td>\n",
              "      <td>NaN</td>\n",
              "      <td>NaN</td>\n",
              "      <td>ADDRESS</td>\n",
              "      <td>NEW YORK</td>\n",
              "      <td>NaN</td>\n",
              "      <td>Precinct</td>\n",
              "      <td>Closed</td>\n",
              "      <td>01-01-16 7:59</td>\n",
              "      <td>The Police Department responded and upon arriv...</td>\n",
              "      <td>01-01-16 0:55</td>\n",
              "      <td>12 MANHATTAN</td>\n",
              "      <td>MANHATTAN</td>\n",
              "      <td>1005409.0</td>\n",
              "      <td>254678.0</td>\n",
              "      <td>Unspecified</td>\n",
              "      <td>MANHATTAN</td>\n",
              "      <td>Unspecified</td>\n",
              "      <td>Unspecified</td>\n",
              "      <td>Unspecified</td>\n",
              "      <td>Unspecified</td>\n",
              "      <td>Unspecified</td>\n",
              "      <td>Unspecified</td>\n",
              "      <td>Unspecified</td>\n",
              "      <td>Unspecified</td>\n",
              "      <td>Unspecified</td>\n",
              "      <td>N</td>\n",
              "      <td>NaN</td>\n",
              "      <td>NaN</td>\n",
              "      <td>NaN</td>\n",
              "      <td>NaN</td>\n",
              "      <td>NaN</td>\n",
              "      <td>NaN</td>\n",
              "      <td>NaN</td>\n",
              "      <td>NaN</td>\n",
              "      <td>NaN</td>\n",
              "      <td>NaN</td>\n",
              "      <td>NaN</td>\n",
              "      <td>40.865682</td>\n",
              "      <td>-73.923501</td>\n",
              "      <td>(40.86568153633767, -73.92350095571744)</td>\n",
              "    </tr>\n",
              "    <tr>\n",
              "      <th>1</th>\n",
              "      <td>32309934</td>\n",
              "      <td>12/31/2015 11:59:44 PM</td>\n",
              "      <td>01-01-16 1:26</td>\n",
              "      <td>NYPD</td>\n",
              "      <td>New York City Police Department</td>\n",
              "      <td>Blocked Driveway</td>\n",
              "      <td>No Access</td>\n",
              "      <td>Street/Sidewalk</td>\n",
              "      <td>11105.0</td>\n",
              "      <td>27-07 23 AVENUE</td>\n",
              "      <td>23 AVENUE</td>\n",
              "      <td>27 STREET</td>\n",
              "      <td>28 STREET</td>\n",
              "      <td>NaN</td>\n",
              "      <td>NaN</td>\n",
              "      <td>ADDRESS</td>\n",
              "      <td>ASTORIA</td>\n",
              "      <td>NaN</td>\n",
              "      <td>Precinct</td>\n",
              "      <td>Closed</td>\n",
              "      <td>01-01-16 7:59</td>\n",
              "      <td>The Police Department responded to the complai...</td>\n",
              "      <td>01-01-16 1:26</td>\n",
              "      <td>01 QUEENS</td>\n",
              "      <td>QUEENS</td>\n",
              "      <td>1007766.0</td>\n",
              "      <td>221986.0</td>\n",
              "      <td>Unspecified</td>\n",
              "      <td>QUEENS</td>\n",
              "      <td>Unspecified</td>\n",
              "      <td>Unspecified</td>\n",
              "      <td>Unspecified</td>\n",
              "      <td>Unspecified</td>\n",
              "      <td>Unspecified</td>\n",
              "      <td>Unspecified</td>\n",
              "      <td>Unspecified</td>\n",
              "      <td>Unspecified</td>\n",
              "      <td>Unspecified</td>\n",
              "      <td>N</td>\n",
              "      <td>NaN</td>\n",
              "      <td>NaN</td>\n",
              "      <td>NaN</td>\n",
              "      <td>NaN</td>\n",
              "      <td>NaN</td>\n",
              "      <td>NaN</td>\n",
              "      <td>NaN</td>\n",
              "      <td>NaN</td>\n",
              "      <td>NaN</td>\n",
              "      <td>NaN</td>\n",
              "      <td>NaN</td>\n",
              "      <td>40.775945</td>\n",
              "      <td>-73.915094</td>\n",
              "      <td>(40.775945312321085, -73.91509393898605)</td>\n",
              "    </tr>\n",
              "    <tr>\n",
              "      <th>2</th>\n",
              "      <td>32309159</td>\n",
              "      <td>12/31/2015 11:59:29 PM</td>\n",
              "      <td>01-01-16 4:51</td>\n",
              "      <td>NYPD</td>\n",
              "      <td>New York City Police Department</td>\n",
              "      <td>Blocked Driveway</td>\n",
              "      <td>No Access</td>\n",
              "      <td>Street/Sidewalk</td>\n",
              "      <td>10458.0</td>\n",
              "      <td>2897 VALENTINE AVENUE</td>\n",
              "      <td>VALENTINE AVENUE</td>\n",
              "      <td>EAST 198 STREET</td>\n",
              "      <td>EAST 199 STREET</td>\n",
              "      <td>NaN</td>\n",
              "      <td>NaN</td>\n",
              "      <td>ADDRESS</td>\n",
              "      <td>BRONX</td>\n",
              "      <td>NaN</td>\n",
              "      <td>Precinct</td>\n",
              "      <td>Closed</td>\n",
              "      <td>01-01-16 7:59</td>\n",
              "      <td>The Police Department responded and upon arriv...</td>\n",
              "      <td>01-01-16 4:51</td>\n",
              "      <td>07 BRONX</td>\n",
              "      <td>BRONX</td>\n",
              "      <td>1015081.0</td>\n",
              "      <td>256380.0</td>\n",
              "      <td>Unspecified</td>\n",
              "      <td>BRONX</td>\n",
              "      <td>Unspecified</td>\n",
              "      <td>Unspecified</td>\n",
              "      <td>Unspecified</td>\n",
              "      <td>Unspecified</td>\n",
              "      <td>Unspecified</td>\n",
              "      <td>Unspecified</td>\n",
              "      <td>Unspecified</td>\n",
              "      <td>Unspecified</td>\n",
              "      <td>Unspecified</td>\n",
              "      <td>N</td>\n",
              "      <td>NaN</td>\n",
              "      <td>NaN</td>\n",
              "      <td>NaN</td>\n",
              "      <td>NaN</td>\n",
              "      <td>NaN</td>\n",
              "      <td>NaN</td>\n",
              "      <td>NaN</td>\n",
              "      <td>NaN</td>\n",
              "      <td>NaN</td>\n",
              "      <td>NaN</td>\n",
              "      <td>NaN</td>\n",
              "      <td>40.870325</td>\n",
              "      <td>-73.888525</td>\n",
              "      <td>(40.870324522111424, -73.88852464418646)</td>\n",
              "    </tr>\n",
              "    <tr>\n",
              "      <th>3</th>\n",
              "      <td>32305098</td>\n",
              "      <td>12/31/2015 11:57:46 PM</td>\n",
              "      <td>01-01-16 7:43</td>\n",
              "      <td>NYPD</td>\n",
              "      <td>New York City Police Department</td>\n",
              "      <td>Illegal Parking</td>\n",
              "      <td>Commercial Overnight Parking</td>\n",
              "      <td>Street/Sidewalk</td>\n",
              "      <td>10461.0</td>\n",
              "      <td>2940 BAISLEY AVENUE</td>\n",
              "      <td>BAISLEY AVENUE</td>\n",
              "      <td>EDISON AVENUE</td>\n",
              "      <td>B STREET</td>\n",
              "      <td>NaN</td>\n",
              "      <td>NaN</td>\n",
              "      <td>ADDRESS</td>\n",
              "      <td>BRONX</td>\n",
              "      <td>NaN</td>\n",
              "      <td>Precinct</td>\n",
              "      <td>Closed</td>\n",
              "      <td>01-01-16 7:57</td>\n",
              "      <td>The Police Department responded to the complai...</td>\n",
              "      <td>01-01-16 7:43</td>\n",
              "      <td>10 BRONX</td>\n",
              "      <td>BRONX</td>\n",
              "      <td>1031740.0</td>\n",
              "      <td>243899.0</td>\n",
              "      <td>Unspecified</td>\n",
              "      <td>BRONX</td>\n",
              "      <td>Unspecified</td>\n",
              "      <td>Unspecified</td>\n",
              "      <td>Unspecified</td>\n",
              "      <td>Unspecified</td>\n",
              "      <td>Unspecified</td>\n",
              "      <td>Unspecified</td>\n",
              "      <td>Unspecified</td>\n",
              "      <td>Unspecified</td>\n",
              "      <td>Unspecified</td>\n",
              "      <td>N</td>\n",
              "      <td>NaN</td>\n",
              "      <td>NaN</td>\n",
              "      <td>NaN</td>\n",
              "      <td>NaN</td>\n",
              "      <td>NaN</td>\n",
              "      <td>NaN</td>\n",
              "      <td>NaN</td>\n",
              "      <td>NaN</td>\n",
              "      <td>NaN</td>\n",
              "      <td>NaN</td>\n",
              "      <td>NaN</td>\n",
              "      <td>40.835994</td>\n",
              "      <td>-73.828379</td>\n",
              "      <td>(40.83599404683083, -73.82837939584206)</td>\n",
              "    </tr>\n",
              "    <tr>\n",
              "      <th>4</th>\n",
              "      <td>32306529</td>\n",
              "      <td>12/31/2015 11:56:58 PM</td>\n",
              "      <td>01-01-16 3:24</td>\n",
              "      <td>NYPD</td>\n",
              "      <td>New York City Police Department</td>\n",
              "      <td>Illegal Parking</td>\n",
              "      <td>Blocked Sidewalk</td>\n",
              "      <td>Street/Sidewalk</td>\n",
              "      <td>11373.0</td>\n",
              "      <td>87-14 57 ROAD</td>\n",
              "      <td>57 ROAD</td>\n",
              "      <td>SEABURY STREET</td>\n",
              "      <td>HOFFMAN DRIVE</td>\n",
              "      <td>NaN</td>\n",
              "      <td>NaN</td>\n",
              "      <td>ADDRESS</td>\n",
              "      <td>ELMHURST</td>\n",
              "      <td>NaN</td>\n",
              "      <td>Precinct</td>\n",
              "      <td>Closed</td>\n",
              "      <td>01-01-16 7:56</td>\n",
              "      <td>The Police Department responded and upon arriv...</td>\n",
              "      <td>01-01-16 3:24</td>\n",
              "      <td>04 QUEENS</td>\n",
              "      <td>QUEENS</td>\n",
              "      <td>1019123.0</td>\n",
              "      <td>206375.0</td>\n",
              "      <td>Unspecified</td>\n",
              "      <td>QUEENS</td>\n",
              "      <td>Unspecified</td>\n",
              "      <td>Unspecified</td>\n",
              "      <td>Unspecified</td>\n",
              "      <td>Unspecified</td>\n",
              "      <td>Unspecified</td>\n",
              "      <td>Unspecified</td>\n",
              "      <td>Unspecified</td>\n",
              "      <td>Unspecified</td>\n",
              "      <td>Unspecified</td>\n",
              "      <td>N</td>\n",
              "      <td>NaN</td>\n",
              "      <td>NaN</td>\n",
              "      <td>NaN</td>\n",
              "      <td>NaN</td>\n",
              "      <td>NaN</td>\n",
              "      <td>NaN</td>\n",
              "      <td>NaN</td>\n",
              "      <td>NaN</td>\n",
              "      <td>NaN</td>\n",
              "      <td>NaN</td>\n",
              "      <td>NaN</td>\n",
              "      <td>40.733060</td>\n",
              "      <td>-73.874170</td>\n",
              "      <td>(40.733059618956815, -73.87416975810375)</td>\n",
              "    </tr>\n",
              "  </tbody>\n",
              "</table>\n",
              "</div>\n",
              "      <button class=\"colab-df-convert\" onclick=\"convertToInteractive('df-b0c51045-5ece-4c47-bab1-bcc8ddd49d59')\"\n",
              "              title=\"Convert this dataframe to an interactive table.\"\n",
              "              style=\"display:none;\">\n",
              "        \n",
              "  <svg xmlns=\"http://www.w3.org/2000/svg\" height=\"24px\"viewBox=\"0 0 24 24\"\n",
              "       width=\"24px\">\n",
              "    <path d=\"M0 0h24v24H0V0z\" fill=\"none\"/>\n",
              "    <path d=\"M18.56 5.44l.94 2.06.94-2.06 2.06-.94-2.06-.94-.94-2.06-.94 2.06-2.06.94zm-11 1L8.5 8.5l.94-2.06 2.06-.94-2.06-.94L8.5 2.5l-.94 2.06-2.06.94zm10 10l.94 2.06.94-2.06 2.06-.94-2.06-.94-.94-2.06-.94 2.06-2.06.94z\"/><path d=\"M17.41 7.96l-1.37-1.37c-.4-.4-.92-.59-1.43-.59-.52 0-1.04.2-1.43.59L10.3 9.45l-7.72 7.72c-.78.78-.78 2.05 0 2.83L4 21.41c.39.39.9.59 1.41.59.51 0 1.02-.2 1.41-.59l7.78-7.78 2.81-2.81c.8-.78.8-2.07 0-2.86zM5.41 20L4 18.59l7.72-7.72 1.47 1.35L5.41 20z\"/>\n",
              "  </svg>\n",
              "      </button>\n",
              "      \n",
              "  <style>\n",
              "    .colab-df-container {\n",
              "      display:flex;\n",
              "      flex-wrap:wrap;\n",
              "      gap: 12px;\n",
              "    }\n",
              "\n",
              "    .colab-df-convert {\n",
              "      background-color: #E8F0FE;\n",
              "      border: none;\n",
              "      border-radius: 50%;\n",
              "      cursor: pointer;\n",
              "      display: none;\n",
              "      fill: #1967D2;\n",
              "      height: 32px;\n",
              "      padding: 0 0 0 0;\n",
              "      width: 32px;\n",
              "    }\n",
              "\n",
              "    .colab-df-convert:hover {\n",
              "      background-color: #E2EBFA;\n",
              "      box-shadow: 0px 1px 2px rgba(60, 64, 67, 0.3), 0px 1px 3px 1px rgba(60, 64, 67, 0.15);\n",
              "      fill: #174EA6;\n",
              "    }\n",
              "\n",
              "    [theme=dark] .colab-df-convert {\n",
              "      background-color: #3B4455;\n",
              "      fill: #D2E3FC;\n",
              "    }\n",
              "\n",
              "    [theme=dark] .colab-df-convert:hover {\n",
              "      background-color: #434B5C;\n",
              "      box-shadow: 0px 1px 3px 1px rgba(0, 0, 0, 0.15);\n",
              "      filter: drop-shadow(0px 1px 2px rgba(0, 0, 0, 0.3));\n",
              "      fill: #FFFFFF;\n",
              "    }\n",
              "  </style>\n",
              "\n",
              "      <script>\n",
              "        const buttonEl =\n",
              "          document.querySelector('#df-b0c51045-5ece-4c47-bab1-bcc8ddd49d59 button.colab-df-convert');\n",
              "        buttonEl.style.display =\n",
              "          google.colab.kernel.accessAllowed ? 'block' : 'none';\n",
              "\n",
              "        async function convertToInteractive(key) {\n",
              "          const element = document.querySelector('#df-b0c51045-5ece-4c47-bab1-bcc8ddd49d59');\n",
              "          const dataTable =\n",
              "            await google.colab.kernel.invokeFunction('convertToInteractive',\n",
              "                                                     [key], {});\n",
              "          if (!dataTable) return;\n",
              "\n",
              "          const docLinkHtml = 'Like what you see? Visit the ' +\n",
              "            '<a target=\"_blank\" href=https://colab.research.google.com/notebooks/data_table.ipynb>data table notebook</a>'\n",
              "            + ' to learn more about interactive tables.';\n",
              "          element.innerHTML = '';\n",
              "          dataTable['output_type'] = 'display_data';\n",
              "          await google.colab.output.renderOutput(dataTable, element);\n",
              "          const docLink = document.createElement('div');\n",
              "          docLink.innerHTML = docLinkHtml;\n",
              "          element.appendChild(docLink);\n",
              "        }\n",
              "      </script>\n",
              "    </div>\n",
              "  </div>\n",
              "  "
            ],
            "text/plain": [
              "   Unique Key  ...                                  Location\n",
              "0    32310363  ...   (40.86568153633767, -73.92350095571744)\n",
              "1    32309934  ...  (40.775945312321085, -73.91509393898605)\n",
              "2    32309159  ...  (40.870324522111424, -73.88852464418646)\n",
              "3    32305098  ...   (40.83599404683083, -73.82837939584206)\n",
              "4    32306529  ...  (40.733059618956815, -73.87416975810375)\n",
              "\n",
              "[5 rows x 53 columns]"
            ]
          },
          "metadata": {},
          "execution_count": 137
        }
      ]
    },
    {
      "cell_type": "code",
      "source": [
        "#now showing the last five rows of the service request csv \n",
        "Service_Request_csv.tail()"
      ],
      "metadata": {
        "colab": {
          "base_uri": "https://localhost:8080/",
          "height": 617
        },
        "id": "6dssZCpnSxA2",
        "outputId": "609ddc8b-83dc-4ba1-cd41-4379ec1bb9f7"
      },
      "execution_count": 138,
      "outputs": [
        {
          "output_type": "execute_result",
          "data": {
            "text/html": [
              "\n",
              "  <div id=\"df-8fc859bd-0ef1-4528-92db-704f053f38a9\">\n",
              "    <div class=\"colab-df-container\">\n",
              "      <div>\n",
              "<style scoped>\n",
              "    .dataframe tbody tr th:only-of-type {\n",
              "        vertical-align: middle;\n",
              "    }\n",
              "\n",
              "    .dataframe tbody tr th {\n",
              "        vertical-align: top;\n",
              "    }\n",
              "\n",
              "    .dataframe thead th {\n",
              "        text-align: right;\n",
              "    }\n",
              "</style>\n",
              "<table border=\"1\" class=\"dataframe\">\n",
              "  <thead>\n",
              "    <tr style=\"text-align: right;\">\n",
              "      <th></th>\n",
              "      <th>Unique Key</th>\n",
              "      <th>Created Date</th>\n",
              "      <th>Closed Date</th>\n",
              "      <th>Agency</th>\n",
              "      <th>Agency Name</th>\n",
              "      <th>Complaint Type</th>\n",
              "      <th>Descriptor</th>\n",
              "      <th>Location Type</th>\n",
              "      <th>Incident Zip</th>\n",
              "      <th>Incident Address</th>\n",
              "      <th>Street Name</th>\n",
              "      <th>Cross Street 1</th>\n",
              "      <th>Cross Street 2</th>\n",
              "      <th>Intersection Street 1</th>\n",
              "      <th>Intersection Street 2</th>\n",
              "      <th>Address Type</th>\n",
              "      <th>City</th>\n",
              "      <th>Landmark</th>\n",
              "      <th>Facility Type</th>\n",
              "      <th>Status</th>\n",
              "      <th>Due Date</th>\n",
              "      <th>Resolution Description</th>\n",
              "      <th>Resolution Action Updated Date</th>\n",
              "      <th>Community Board</th>\n",
              "      <th>Borough</th>\n",
              "      <th>X Coordinate (State Plane)</th>\n",
              "      <th>Y Coordinate (State Plane)</th>\n",
              "      <th>Park Facility Name</th>\n",
              "      <th>Park Borough</th>\n",
              "      <th>School Name</th>\n",
              "      <th>School Number</th>\n",
              "      <th>School Region</th>\n",
              "      <th>School Code</th>\n",
              "      <th>School Phone Number</th>\n",
              "      <th>School Address</th>\n",
              "      <th>School City</th>\n",
              "      <th>School State</th>\n",
              "      <th>School Zip</th>\n",
              "      <th>School Not Found</th>\n",
              "      <th>School or Citywide Complaint</th>\n",
              "      <th>Vehicle Type</th>\n",
              "      <th>Taxi Company Borough</th>\n",
              "      <th>Taxi Pick Up Location</th>\n",
              "      <th>Bridge Highway Name</th>\n",
              "      <th>Bridge Highway Direction</th>\n",
              "      <th>Road Ramp</th>\n",
              "      <th>Bridge Highway Segment</th>\n",
              "      <th>Garage Lot Name</th>\n",
              "      <th>Ferry Direction</th>\n",
              "      <th>Ferry Terminal Name</th>\n",
              "      <th>Latitude</th>\n",
              "      <th>Longitude</th>\n",
              "      <th>Location</th>\n",
              "    </tr>\n",
              "  </thead>\n",
              "  <tbody>\n",
              "    <tr>\n",
              "      <th>300693</th>\n",
              "      <td>30281872</td>\n",
              "      <td>03/29/2015 12:33:41 AM</td>\n",
              "      <td>NaN</td>\n",
              "      <td>NYPD</td>\n",
              "      <td>New York City Police Department</td>\n",
              "      <td>Noise - Commercial</td>\n",
              "      <td>Loud Music/Party</td>\n",
              "      <td>Club/Bar/Restaurant</td>\n",
              "      <td>NaN</td>\n",
              "      <td>CRESCENT AVENUE</td>\n",
              "      <td>CRESCENT AVENUE</td>\n",
              "      <td>EAST 186</td>\n",
              "      <td>NaN</td>\n",
              "      <td>east 186</td>\n",
              "      <td>NaN</td>\n",
              "      <td>NaN</td>\n",
              "      <td>NaN</td>\n",
              "      <td>NaN</td>\n",
              "      <td>NaN</td>\n",
              "      <td>Open</td>\n",
              "      <td>03/29/2015 08:33:41 AM</td>\n",
              "      <td>Your complaint has been forwarded to the New Y...</td>\n",
              "      <td>NaN</td>\n",
              "      <td>0 Unspecified</td>\n",
              "      <td>Unspecified</td>\n",
              "      <td>NaN</td>\n",
              "      <td>NaN</td>\n",
              "      <td>Unspecified</td>\n",
              "      <td>Unspecified</td>\n",
              "      <td>Unspecified</td>\n",
              "      <td>Unspecified</td>\n",
              "      <td>Unspecified</td>\n",
              "      <td>Unspecified</td>\n",
              "      <td>Unspecified</td>\n",
              "      <td>Unspecified</td>\n",
              "      <td>Unspecified</td>\n",
              "      <td>Unspecified</td>\n",
              "      <td>Unspecified</td>\n",
              "      <td>N</td>\n",
              "      <td>NaN</td>\n",
              "      <td>NaN</td>\n",
              "      <td>NaN</td>\n",
              "      <td>NaN</td>\n",
              "      <td>NaN</td>\n",
              "      <td>NaN</td>\n",
              "      <td>NaN</td>\n",
              "      <td>NaN</td>\n",
              "      <td>NaN</td>\n",
              "      <td>NaN</td>\n",
              "      <td>NaN</td>\n",
              "      <td>NaN</td>\n",
              "      <td>NaN</td>\n",
              "      <td>NaN</td>\n",
              "    </tr>\n",
              "    <tr>\n",
              "      <th>300694</th>\n",
              "      <td>30281230</td>\n",
              "      <td>03/29/2015 12:33:28 AM</td>\n",
              "      <td>03/29/2015 02:33:59 AM</td>\n",
              "      <td>NYPD</td>\n",
              "      <td>New York City Police Department</td>\n",
              "      <td>Blocked Driveway</td>\n",
              "      <td>Partial Access</td>\n",
              "      <td>Street/Sidewalk</td>\n",
              "      <td>11418.0</td>\n",
              "      <td>100-17 87 AVENUE</td>\n",
              "      <td>87 AVENUE</td>\n",
              "      <td>DEAD END</td>\n",
              "      <td>102 STREET</td>\n",
              "      <td>NaN</td>\n",
              "      <td>NaN</td>\n",
              "      <td>ADDRESS</td>\n",
              "      <td>RICHMOND HILL</td>\n",
              "      <td>NaN</td>\n",
              "      <td>Precinct</td>\n",
              "      <td>Closed</td>\n",
              "      <td>03/29/2015 08:33:28 AM</td>\n",
              "      <td>The Police Department responded and upon arriv...</td>\n",
              "      <td>03/29/2015 02:33:59 AM</td>\n",
              "      <td>09 QUEENS</td>\n",
              "      <td>QUEENS</td>\n",
              "      <td>1026931.0</td>\n",
              "      <td>192185.0</td>\n",
              "      <td>Unspecified</td>\n",
              "      <td>QUEENS</td>\n",
              "      <td>Unspecified</td>\n",
              "      <td>Unspecified</td>\n",
              "      <td>Unspecified</td>\n",
              "      <td>Unspecified</td>\n",
              "      <td>Unspecified</td>\n",
              "      <td>Unspecified</td>\n",
              "      <td>Unspecified</td>\n",
              "      <td>Unspecified</td>\n",
              "      <td>Unspecified</td>\n",
              "      <td>N</td>\n",
              "      <td>NaN</td>\n",
              "      <td>NaN</td>\n",
              "      <td>NaN</td>\n",
              "      <td>NaN</td>\n",
              "      <td>NaN</td>\n",
              "      <td>NaN</td>\n",
              "      <td>NaN</td>\n",
              "      <td>NaN</td>\n",
              "      <td>NaN</td>\n",
              "      <td>NaN</td>\n",
              "      <td>NaN</td>\n",
              "      <td>40.694077</td>\n",
              "      <td>-73.846087</td>\n",
              "      <td>(40.69407728322387, -73.8460866160573)</td>\n",
              "    </tr>\n",
              "    <tr>\n",
              "      <th>300695</th>\n",
              "      <td>30283424</td>\n",
              "      <td>03/29/2015 12:33:03 AM</td>\n",
              "      <td>03/29/2015 03:40:20 AM</td>\n",
              "      <td>NYPD</td>\n",
              "      <td>New York City Police Department</td>\n",
              "      <td>Noise - Commercial</td>\n",
              "      <td>Loud Music/Party</td>\n",
              "      <td>Club/Bar/Restaurant</td>\n",
              "      <td>11206.0</td>\n",
              "      <td>162 THROOP AVENUE</td>\n",
              "      <td>THROOP AVENUE</td>\n",
              "      <td>HOPKINS STREET</td>\n",
              "      <td>ELLERY STREET</td>\n",
              "      <td>NaN</td>\n",
              "      <td>NaN</td>\n",
              "      <td>ADDRESS</td>\n",
              "      <td>BROOKLYN</td>\n",
              "      <td>NaN</td>\n",
              "      <td>Precinct</td>\n",
              "      <td>Closed</td>\n",
              "      <td>03/29/2015 08:33:03 AM</td>\n",
              "      <td>The Police Department responded to the complai...</td>\n",
              "      <td>03/29/2015 03:40:20 AM</td>\n",
              "      <td>03 BROOKLYN</td>\n",
              "      <td>BROOKLYN</td>\n",
              "      <td>999713.0</td>\n",
              "      <td>194161.0</td>\n",
              "      <td>Unspecified</td>\n",
              "      <td>BROOKLYN</td>\n",
              "      <td>Unspecified</td>\n",
              "      <td>Unspecified</td>\n",
              "      <td>Unspecified</td>\n",
              "      <td>Unspecified</td>\n",
              "      <td>Unspecified</td>\n",
              "      <td>Unspecified</td>\n",
              "      <td>Unspecified</td>\n",
              "      <td>Unspecified</td>\n",
              "      <td>Unspecified</td>\n",
              "      <td>N</td>\n",
              "      <td>NaN</td>\n",
              "      <td>NaN</td>\n",
              "      <td>NaN</td>\n",
              "      <td>NaN</td>\n",
              "      <td>NaN</td>\n",
              "      <td>NaN</td>\n",
              "      <td>NaN</td>\n",
              "      <td>NaN</td>\n",
              "      <td>NaN</td>\n",
              "      <td>NaN</td>\n",
              "      <td>NaN</td>\n",
              "      <td>40.699590</td>\n",
              "      <td>-73.944234</td>\n",
              "      <td>(40.69959035300927, -73.94423377144169)</td>\n",
              "    </tr>\n",
              "    <tr>\n",
              "      <th>300696</th>\n",
              "      <td>30280004</td>\n",
              "      <td>03/29/2015 12:33:02 AM</td>\n",
              "      <td>03/29/2015 04:38:35 AM</td>\n",
              "      <td>NYPD</td>\n",
              "      <td>New York City Police Department</td>\n",
              "      <td>Noise - Commercial</td>\n",
              "      <td>Loud Music/Party</td>\n",
              "      <td>Club/Bar/Restaurant</td>\n",
              "      <td>10461.0</td>\n",
              "      <td>3151 EAST TREMONT AVENUE</td>\n",
              "      <td>EAST TREMONT AVENUE</td>\n",
              "      <td>CODDINGTON AVENUE</td>\n",
              "      <td>LA SALLE AVENUE</td>\n",
              "      <td>NaN</td>\n",
              "      <td>NaN</td>\n",
              "      <td>ADDRESS</td>\n",
              "      <td>BRONX</td>\n",
              "      <td>NaN</td>\n",
              "      <td>Precinct</td>\n",
              "      <td>Closed</td>\n",
              "      <td>03/29/2015 08:33:02 AM</td>\n",
              "      <td>The Police Department responded to the complai...</td>\n",
              "      <td>03/29/2015 04:38:35 AM</td>\n",
              "      <td>10 BRONX</td>\n",
              "      <td>BRONX</td>\n",
              "      <td>1030021.0</td>\n",
              "      <td>244520.0</td>\n",
              "      <td>Unspecified</td>\n",
              "      <td>BRONX</td>\n",
              "      <td>Unspecified</td>\n",
              "      <td>Unspecified</td>\n",
              "      <td>Unspecified</td>\n",
              "      <td>Unspecified</td>\n",
              "      <td>Unspecified</td>\n",
              "      <td>Unspecified</td>\n",
              "      <td>Unspecified</td>\n",
              "      <td>Unspecified</td>\n",
              "      <td>Unspecified</td>\n",
              "      <td>N</td>\n",
              "      <td>NaN</td>\n",
              "      <td>NaN</td>\n",
              "      <td>NaN</td>\n",
              "      <td>NaN</td>\n",
              "      <td>NaN</td>\n",
              "      <td>NaN</td>\n",
              "      <td>NaN</td>\n",
              "      <td>NaN</td>\n",
              "      <td>NaN</td>\n",
              "      <td>NaN</td>\n",
              "      <td>NaN</td>\n",
              "      <td>40.837708</td>\n",
              "      <td>-73.834587</td>\n",
              "      <td>(40.8377075854206, -73.83458731019586)</td>\n",
              "    </tr>\n",
              "    <tr>\n",
              "      <th>300697</th>\n",
              "      <td>30281825</td>\n",
              "      <td>03/29/2015 12:33:01 AM</td>\n",
              "      <td>03/29/2015 04:41:50 AM</td>\n",
              "      <td>NYPD</td>\n",
              "      <td>New York City Police Department</td>\n",
              "      <td>Noise - Commercial</td>\n",
              "      <td>Loud Music/Party</td>\n",
              "      <td>Store/Commercial</td>\n",
              "      <td>10036.0</td>\n",
              "      <td>251 WEST 48 STREET</td>\n",
              "      <td>WEST 48 STREET</td>\n",
              "      <td>BROADWAY</td>\n",
              "      <td>8 AVENUE</td>\n",
              "      <td>NaN</td>\n",
              "      <td>NaN</td>\n",
              "      <td>ADDRESS</td>\n",
              "      <td>NEW YORK</td>\n",
              "      <td>NaN</td>\n",
              "      <td>Precinct</td>\n",
              "      <td>Closed</td>\n",
              "      <td>03/29/2015 08:33:01 AM</td>\n",
              "      <td>The Police Department responded to the complai...</td>\n",
              "      <td>03/29/2015 04:41:50 AM</td>\n",
              "      <td>05 MANHATTAN</td>\n",
              "      <td>MANHATTAN</td>\n",
              "      <td>988150.0</td>\n",
              "      <td>216378.0</td>\n",
              "      <td>Unspecified</td>\n",
              "      <td>MANHATTAN</td>\n",
              "      <td>Unspecified</td>\n",
              "      <td>Unspecified</td>\n",
              "      <td>Unspecified</td>\n",
              "      <td>Unspecified</td>\n",
              "      <td>Unspecified</td>\n",
              "      <td>Unspecified</td>\n",
              "      <td>Unspecified</td>\n",
              "      <td>Unspecified</td>\n",
              "      <td>Unspecified</td>\n",
              "      <td>N</td>\n",
              "      <td>NaN</td>\n",
              "      <td>NaN</td>\n",
              "      <td>NaN</td>\n",
              "      <td>NaN</td>\n",
              "      <td>NaN</td>\n",
              "      <td>NaN</td>\n",
              "      <td>NaN</td>\n",
              "      <td>NaN</td>\n",
              "      <td>NaN</td>\n",
              "      <td>NaN</td>\n",
              "      <td>NaN</td>\n",
              "      <td>40.760583</td>\n",
              "      <td>-73.985922</td>\n",
              "      <td>(40.76058322950115, -73.98592204392392)</td>\n",
              "    </tr>\n",
              "  </tbody>\n",
              "</table>\n",
              "</div>\n",
              "      <button class=\"colab-df-convert\" onclick=\"convertToInteractive('df-8fc859bd-0ef1-4528-92db-704f053f38a9')\"\n",
              "              title=\"Convert this dataframe to an interactive table.\"\n",
              "              style=\"display:none;\">\n",
              "        \n",
              "  <svg xmlns=\"http://www.w3.org/2000/svg\" height=\"24px\"viewBox=\"0 0 24 24\"\n",
              "       width=\"24px\">\n",
              "    <path d=\"M0 0h24v24H0V0z\" fill=\"none\"/>\n",
              "    <path d=\"M18.56 5.44l.94 2.06.94-2.06 2.06-.94-2.06-.94-.94-2.06-.94 2.06-2.06.94zm-11 1L8.5 8.5l.94-2.06 2.06-.94-2.06-.94L8.5 2.5l-.94 2.06-2.06.94zm10 10l.94 2.06.94-2.06 2.06-.94-2.06-.94-.94-2.06-.94 2.06-2.06.94z\"/><path d=\"M17.41 7.96l-1.37-1.37c-.4-.4-.92-.59-1.43-.59-.52 0-1.04.2-1.43.59L10.3 9.45l-7.72 7.72c-.78.78-.78 2.05 0 2.83L4 21.41c.39.39.9.59 1.41.59.51 0 1.02-.2 1.41-.59l7.78-7.78 2.81-2.81c.8-.78.8-2.07 0-2.86zM5.41 20L4 18.59l7.72-7.72 1.47 1.35L5.41 20z\"/>\n",
              "  </svg>\n",
              "      </button>\n",
              "      \n",
              "  <style>\n",
              "    .colab-df-container {\n",
              "      display:flex;\n",
              "      flex-wrap:wrap;\n",
              "      gap: 12px;\n",
              "    }\n",
              "\n",
              "    .colab-df-convert {\n",
              "      background-color: #E8F0FE;\n",
              "      border: none;\n",
              "      border-radius: 50%;\n",
              "      cursor: pointer;\n",
              "      display: none;\n",
              "      fill: #1967D2;\n",
              "      height: 32px;\n",
              "      padding: 0 0 0 0;\n",
              "      width: 32px;\n",
              "    }\n",
              "\n",
              "    .colab-df-convert:hover {\n",
              "      background-color: #E2EBFA;\n",
              "      box-shadow: 0px 1px 2px rgba(60, 64, 67, 0.3), 0px 1px 3px 1px rgba(60, 64, 67, 0.15);\n",
              "      fill: #174EA6;\n",
              "    }\n",
              "\n",
              "    [theme=dark] .colab-df-convert {\n",
              "      background-color: #3B4455;\n",
              "      fill: #D2E3FC;\n",
              "    }\n",
              "\n",
              "    [theme=dark] .colab-df-convert:hover {\n",
              "      background-color: #434B5C;\n",
              "      box-shadow: 0px 1px 3px 1px rgba(0, 0, 0, 0.15);\n",
              "      filter: drop-shadow(0px 1px 2px rgba(0, 0, 0, 0.3));\n",
              "      fill: #FFFFFF;\n",
              "    }\n",
              "  </style>\n",
              "\n",
              "      <script>\n",
              "        const buttonEl =\n",
              "          document.querySelector('#df-8fc859bd-0ef1-4528-92db-704f053f38a9 button.colab-df-convert');\n",
              "        buttonEl.style.display =\n",
              "          google.colab.kernel.accessAllowed ? 'block' : 'none';\n",
              "\n",
              "        async function convertToInteractive(key) {\n",
              "          const element = document.querySelector('#df-8fc859bd-0ef1-4528-92db-704f053f38a9');\n",
              "          const dataTable =\n",
              "            await google.colab.kernel.invokeFunction('convertToInteractive',\n",
              "                                                     [key], {});\n",
              "          if (!dataTable) return;\n",
              "\n",
              "          const docLinkHtml = 'Like what you see? Visit the ' +\n",
              "            '<a target=\"_blank\" href=https://colab.research.google.com/notebooks/data_table.ipynb>data table notebook</a>'\n",
              "            + ' to learn more about interactive tables.';\n",
              "          element.innerHTML = '';\n",
              "          dataTable['output_type'] = 'display_data';\n",
              "          await google.colab.output.renderOutput(dataTable, element);\n",
              "          const docLink = document.createElement('div');\n",
              "          docLink.innerHTML = docLinkHtml;\n",
              "          element.appendChild(docLink);\n",
              "        }\n",
              "      </script>\n",
              "    </div>\n",
              "  </div>\n",
              "  "
            ],
            "text/plain": [
              "        Unique Key  ...                                 Location\n",
              "300693    30281872  ...                                      NaN\n",
              "300694    30281230  ...   (40.69407728322387, -73.8460866160573)\n",
              "300695    30283424  ...  (40.69959035300927, -73.94423377144169)\n",
              "300696    30280004  ...   (40.8377075854206, -73.83458731019586)\n",
              "300697    30281825  ...  (40.76058322950115, -73.98592204392392)\n",
              "\n",
              "[5 rows x 53 columns]"
            ]
          },
          "metadata": {},
          "execution_count": 138
        }
      ]
    },
    {
      "cell_type": "code",
      "source": [
        "#how many rows & columns are present in this service request dataset\n",
        "Service_Request_csv.shape"
      ],
      "metadata": {
        "colab": {
          "base_uri": "https://localhost:8080/"
        },
        "id": "0WYzwCcyS6Nw",
        "outputId": "fd9f794c-f54c-46ca-fc4a-3748a641bf93"
      },
      "execution_count": 139,
      "outputs": [
        {
          "output_type": "execute_result",
          "data": {
            "text/plain": [
              "(300698, 53)"
            ]
          },
          "metadata": {},
          "execution_count": 139
        }
      ]
    },
    {
      "cell_type": "code",
      "source": [
        "#how many columns are present inside the service request dataset\n",
        "print(Service_Request_csv.columns.to_list())"
      ],
      "metadata": {
        "colab": {
          "base_uri": "https://localhost:8080/"
        },
        "id": "cgLHHD9tTIEM",
        "outputId": "00973f67-2a23-43e4-f8e5-2ac3fd2f71c2"
      },
      "execution_count": 140,
      "outputs": [
        {
          "output_type": "stream",
          "name": "stdout",
          "text": [
            "['Unique Key', 'Created Date', 'Closed Date', 'Agency', 'Agency Name', 'Complaint Type', 'Descriptor', 'Location Type', 'Incident Zip', 'Incident Address', 'Street Name', 'Cross Street 1', 'Cross Street 2', 'Intersection Street 1', 'Intersection Street 2', 'Address Type', 'City', 'Landmark', 'Facility Type', 'Status', 'Due Date', 'Resolution Description', 'Resolution Action Updated Date', 'Community Board', 'Borough', 'X Coordinate (State Plane)', 'Y Coordinate (State Plane)', 'Park Facility Name', 'Park Borough', 'School Name', 'School Number', 'School Region', 'School Code', 'School Phone Number', 'School Address', 'School City', 'School State', 'School Zip', 'School Not Found', 'School or Citywide Complaint', 'Vehicle Type', 'Taxi Company Borough', 'Taxi Pick Up Location', 'Bridge Highway Name', 'Bridge Highway Direction', 'Road Ramp', 'Bridge Highway Segment', 'Garage Lot Name', 'Ferry Direction', 'Ferry Terminal Name', 'Latitude', 'Longitude', 'Location']\n"
          ]
        }
      ]
    },
    {
      "cell_type": "code",
      "source": [
        "#how many unique columns are present inside service request dataset for the column name \"Complaint Type\"\n",
        "#The unique() function is used to find the unique elements of an array\n",
        "Service_Request_csv[\"Complaint Type\"].unique()"
      ],
      "metadata": {
        "colab": {
          "base_uri": "https://localhost:8080/"
        },
        "id": "E_hhc0fPTU9Q",
        "outputId": "b933f9c2-1a95-4258-f57b-760ebe2f1fd6"
      },
      "execution_count": 141,
      "outputs": [
        {
          "output_type": "execute_result",
          "data": {
            "text/plain": [
              "array(['Noise - Street/Sidewalk', 'Blocked Driveway', 'Illegal Parking',\n",
              "       'Derelict Vehicle', 'Noise - Commercial',\n",
              "       'Noise - House of Worship', 'Posting Advertisement',\n",
              "       'Noise - Vehicle', 'Animal Abuse', 'Vending', 'Traffic',\n",
              "       'Drinking', 'Bike/Roller/Skate Chronic', 'Panhandling',\n",
              "       'Noise - Park', 'Homeless Encampment', 'Urinating in Public',\n",
              "       'Graffiti', 'Disorderly Youth', 'Illegal Fireworks',\n",
              "       'Ferry Complaint', 'Agency Issues', 'Squeegee', 'Animal in a Park'],\n",
              "      dtype=object)"
            ]
          },
          "metadata": {},
          "execution_count": 141
        }
      ]
    },
    {
      "cell_type": "code",
      "source": [
        "#how many unique columns are present inside service request dataset for the column name \"Descriptor\"\n",
        "#The unique() function is used to find the unique elements of an array\n",
        "Service_Request_csv[\"Descriptor\"].unique()"
      ],
      "metadata": {
        "colab": {
          "base_uri": "https://localhost:8080/"
        },
        "id": "o9pBH2KfV404",
        "outputId": "e2b906da-f392-4fd7-b578-ca385e9a41a3"
      },
      "execution_count": 142,
      "outputs": [
        {
          "output_type": "execute_result",
          "data": {
            "text/plain": [
              "array(['Loud Music/Party', 'No Access', 'Commercial Overnight Parking',\n",
              "       'Blocked Sidewalk', 'Posted Parking Sign Violation',\n",
              "       'Blocked Hydrant', 'With License Plate', 'Partial Access',\n",
              "       'Unauthorized Bus Layover', 'Double Parked Blocking Vehicle',\n",
              "       'Double Parked Blocking Traffic', 'Vehicle', 'Loud Talking',\n",
              "       'Banging/Pounding', 'Car/Truck Music', 'Tortured',\n",
              "       'In Prohibited Area', 'Congestion/Gridlock', 'Neglected',\n",
              "       'Car/Truck Horn', 'In Public', 'Other (complaint details)', nan,\n",
              "       'No Shelter', 'Truck Route Violation', 'Unlicensed',\n",
              "       'Overnight Commercial Storage', 'Engine Idling',\n",
              "       'After Hours - Licensed Est', 'Detached Trailer',\n",
              "       'Underage - Licensed Est', 'Chronic Stoplight Violation',\n",
              "       'Loud Television', 'Chained', 'Building', 'In Car',\n",
              "       'Police Report Requested', 'Chronic Speeding',\n",
              "       'Playing in Unsuitable Place', 'Drag Racing',\n",
              "       'Police Report Not Requested', 'Nuisance/Truant', 'Homeless Issue',\n",
              "       'Language Access Complaint', 'Disruptive Passenger',\n",
              "       'Animal Waste'], dtype=object)"
            ]
          },
          "metadata": {},
          "execution_count": 142
        }
      ]
    },
    {
      "cell_type": "code",
      "source": [
        "#how many missing values are present or not inside this dataset\n",
        "#using isNa function\n",
        "Service_Request_csv.isna().any()"
      ],
      "metadata": {
        "colab": {
          "base_uri": "https://localhost:8080/"
        },
        "id": "AANrBGdaY78Z",
        "outputId": "dd13e111-9189-4a83-bc33-6b390c64cc97"
      },
      "execution_count": 143,
      "outputs": [
        {
          "output_type": "execute_result",
          "data": {
            "text/plain": [
              "Unique Key                        False\n",
              "Created Date                      False\n",
              "Closed Date                        True\n",
              "Agency                            False\n",
              "Agency Name                       False\n",
              "Complaint Type                    False\n",
              "Descriptor                         True\n",
              "Location Type                      True\n",
              "Incident Zip                       True\n",
              "Incident Address                   True\n",
              "Street Name                        True\n",
              "Cross Street 1                     True\n",
              "Cross Street 2                     True\n",
              "Intersection Street 1              True\n",
              "Intersection Street 2              True\n",
              "Address Type                       True\n",
              "City                               True\n",
              "Landmark                           True\n",
              "Facility Type                      True\n",
              "Status                            False\n",
              "Due Date                           True\n",
              "Resolution Description            False\n",
              "Resolution Action Updated Date     True\n",
              "Community Board                   False\n",
              "Borough                           False\n",
              "X Coordinate (State Plane)         True\n",
              "Y Coordinate (State Plane)         True\n",
              "Park Facility Name                False\n",
              "Park Borough                      False\n",
              "School Name                       False\n",
              "School Number                     False\n",
              "School Region                      True\n",
              "School Code                        True\n",
              "School Phone Number               False\n",
              "School Address                    False\n",
              "School City                       False\n",
              "School State                      False\n",
              "School Zip                         True\n",
              "School Not Found                  False\n",
              "School or Citywide Complaint       True\n",
              "Vehicle Type                       True\n",
              "Taxi Company Borough               True\n",
              "Taxi Pick Up Location              True\n",
              "Bridge Highway Name                True\n",
              "Bridge Highway Direction           True\n",
              "Road Ramp                          True\n",
              "Bridge Highway Segment             True\n",
              "Garage Lot Name                    True\n",
              "Ferry Direction                    True\n",
              "Ferry Terminal Name                True\n",
              "Latitude                           True\n",
              "Longitude                          True\n",
              "Location                           True\n",
              "dtype: bool"
            ]
          },
          "metadata": {},
          "execution_count": 143
        }
      ]
    },
    {
      "cell_type": "code",
      "source": [
        "#total missing values are present inside this dataset\n",
        "Service_Request_csv.isna().sum()"
      ],
      "metadata": {
        "colab": {
          "base_uri": "https://localhost:8080/"
        },
        "id": "9hgo-EVLZZF7",
        "outputId": "13f03180-07db-43e4-e503-b592281c8c50"
      },
      "execution_count": 144,
      "outputs": [
        {
          "output_type": "execute_result",
          "data": {
            "text/plain": [
              "Unique Key                             0\n",
              "Created Date                           0\n",
              "Closed Date                         2164\n",
              "Agency                                 0\n",
              "Agency Name                            0\n",
              "Complaint Type                         0\n",
              "Descriptor                          5914\n",
              "Location Type                        131\n",
              "Incident Zip                        2615\n",
              "Incident Address                   44410\n",
              "Street Name                        44410\n",
              "Cross Street 1                     49279\n",
              "Cross Street 2                     49779\n",
              "Intersection Street 1             256840\n",
              "Intersection Street 2             257336\n",
              "Address Type                        2815\n",
              "City                                2614\n",
              "Landmark                          300349\n",
              "Facility Type                       2171\n",
              "Status                                 0\n",
              "Due Date                               3\n",
              "Resolution Description                 0\n",
              "Resolution Action Updated Date      2187\n",
              "Community Board                        0\n",
              "Borough                                0\n",
              "X Coordinate (State Plane)          3540\n",
              "Y Coordinate (State Plane)          3540\n",
              "Park Facility Name                     0\n",
              "Park Borough                           0\n",
              "School Name                            0\n",
              "School Number                          0\n",
              "School Region                          1\n",
              "School Code                            1\n",
              "School Phone Number                    0\n",
              "School Address                         0\n",
              "School City                            0\n",
              "School State                           0\n",
              "School Zip                             1\n",
              "School Not Found                       0\n",
              "School or Citywide Complaint      300698\n",
              "Vehicle Type                      300698\n",
              "Taxi Company Borough              300698\n",
              "Taxi Pick Up Location             300698\n",
              "Bridge Highway Name               300455\n",
              "Bridge Highway Direction          300455\n",
              "Road Ramp                         300485\n",
              "Bridge Highway Segment            300485\n",
              "Garage Lot Name                   300698\n",
              "Ferry Direction                   300697\n",
              "Ferry Terminal Name               300696\n",
              "Latitude                            3540\n",
              "Longitude                           3540\n",
              "Location                            3540\n",
              "dtype: int64"
            ]
          },
          "metadata": {},
          "execution_count": 144
        }
      ]
    },
    {
      "cell_type": "code",
      "source": [
        "#information of the Service_Request_csv dataframe\n",
        "Service_Request_csv.info()"
      ],
      "metadata": {
        "colab": {
          "base_uri": "https://localhost:8080/"
        },
        "id": "wXCuNGwAZqQl",
        "outputId": "9ab4b838-6aab-4551-e2c4-8f2fdb675f9a"
      },
      "execution_count": 145,
      "outputs": [
        {
          "output_type": "stream",
          "name": "stdout",
          "text": [
            "<class 'pandas.core.frame.DataFrame'>\n",
            "RangeIndex: 300698 entries, 0 to 300697\n",
            "Data columns (total 53 columns):\n",
            " #   Column                          Non-Null Count   Dtype  \n",
            "---  ------                          --------------   -----  \n",
            " 0   Unique Key                      300698 non-null  int64  \n",
            " 1   Created Date                    300698 non-null  object \n",
            " 2   Closed Date                     298534 non-null  object \n",
            " 3   Agency                          300698 non-null  object \n",
            " 4   Agency Name                     300698 non-null  object \n",
            " 5   Complaint Type                  300698 non-null  object \n",
            " 6   Descriptor                      294784 non-null  object \n",
            " 7   Location Type                   300567 non-null  object \n",
            " 8   Incident Zip                    298083 non-null  float64\n",
            " 9   Incident Address                256288 non-null  object \n",
            " 10  Street Name                     256288 non-null  object \n",
            " 11  Cross Street 1                  251419 non-null  object \n",
            " 12  Cross Street 2                  250919 non-null  object \n",
            " 13  Intersection Street 1           43858 non-null   object \n",
            " 14  Intersection Street 2           43362 non-null   object \n",
            " 15  Address Type                    297883 non-null  object \n",
            " 16  City                            298084 non-null  object \n",
            " 17  Landmark                        349 non-null     object \n",
            " 18  Facility Type                   298527 non-null  object \n",
            " 19  Status                          300698 non-null  object \n",
            " 20  Due Date                        300695 non-null  object \n",
            " 21  Resolution Description          300698 non-null  object \n",
            " 22  Resolution Action Updated Date  298511 non-null  object \n",
            " 23  Community Board                 300698 non-null  object \n",
            " 24  Borough                         300698 non-null  object \n",
            " 25  X Coordinate (State Plane)      297158 non-null  float64\n",
            " 26  Y Coordinate (State Plane)      297158 non-null  float64\n",
            " 27  Park Facility Name              300698 non-null  object \n",
            " 28  Park Borough                    300698 non-null  object \n",
            " 29  School Name                     300698 non-null  object \n",
            " 30  School Number                   300698 non-null  object \n",
            " 31  School Region                   300697 non-null  object \n",
            " 32  School Code                     300697 non-null  object \n",
            " 33  School Phone Number             300698 non-null  object \n",
            " 34  School Address                  300698 non-null  object \n",
            " 35  School City                     300698 non-null  object \n",
            " 36  School State                    300698 non-null  object \n",
            " 37  School Zip                      300697 non-null  object \n",
            " 38  School Not Found                300698 non-null  object \n",
            " 39  School or Citywide Complaint    0 non-null       float64\n",
            " 40  Vehicle Type                    0 non-null       float64\n",
            " 41  Taxi Company Borough            0 non-null       float64\n",
            " 42  Taxi Pick Up Location           0 non-null       float64\n",
            " 43  Bridge Highway Name             243 non-null     object \n",
            " 44  Bridge Highway Direction        243 non-null     object \n",
            " 45  Road Ramp                       213 non-null     object \n",
            " 46  Bridge Highway Segment          213 non-null     object \n",
            " 47  Garage Lot Name                 0 non-null       float64\n",
            " 48  Ferry Direction                 1 non-null       object \n",
            " 49  Ferry Terminal Name             2 non-null       object \n",
            " 50  Latitude                        297158 non-null  float64\n",
            " 51  Longitude                       297158 non-null  float64\n",
            " 52  Location                        297158 non-null  object \n",
            "dtypes: float64(10), int64(1), object(42)\n",
            "memory usage: 121.6+ MB\n"
          ]
        }
      ]
    },
    {
      "cell_type": "code",
      "source": [
        "#check the datatype of the dataset\n",
        "Service_Request_csv.dtypes"
      ],
      "metadata": {
        "colab": {
          "base_uri": "https://localhost:8080/"
        },
        "id": "QqnQKXXIZwdy",
        "outputId": "2f232d91-28da-4926-a999-3937dcfda528"
      },
      "execution_count": 146,
      "outputs": [
        {
          "output_type": "execute_result",
          "data": {
            "text/plain": [
              "Unique Key                          int64\n",
              "Created Date                       object\n",
              "Closed Date                        object\n",
              "Agency                             object\n",
              "Agency Name                        object\n",
              "Complaint Type                     object\n",
              "Descriptor                         object\n",
              "Location Type                      object\n",
              "Incident Zip                      float64\n",
              "Incident Address                   object\n",
              "Street Name                        object\n",
              "Cross Street 1                     object\n",
              "Cross Street 2                     object\n",
              "Intersection Street 1              object\n",
              "Intersection Street 2              object\n",
              "Address Type                       object\n",
              "City                               object\n",
              "Landmark                           object\n",
              "Facility Type                      object\n",
              "Status                             object\n",
              "Due Date                           object\n",
              "Resolution Description             object\n",
              "Resolution Action Updated Date     object\n",
              "Community Board                    object\n",
              "Borough                            object\n",
              "X Coordinate (State Plane)        float64\n",
              "Y Coordinate (State Plane)        float64\n",
              "Park Facility Name                 object\n",
              "Park Borough                       object\n",
              "School Name                        object\n",
              "School Number                      object\n",
              "School Region                      object\n",
              "School Code                        object\n",
              "School Phone Number                object\n",
              "School Address                     object\n",
              "School City                        object\n",
              "School State                       object\n",
              "School Zip                         object\n",
              "School Not Found                   object\n",
              "School or Citywide Complaint      float64\n",
              "Vehicle Type                      float64\n",
              "Taxi Company Borough              float64\n",
              "Taxi Pick Up Location             float64\n",
              "Bridge Highway Name                object\n",
              "Bridge Highway Direction           object\n",
              "Road Ramp                          object\n",
              "Bridge Highway Segment             object\n",
              "Garage Lot Name                   float64\n",
              "Ferry Direction                    object\n",
              "Ferry Terminal Name                object\n",
              "Latitude                          float64\n",
              "Longitude                         float64\n",
              "Location                           object\n",
              "dtype: object"
            ]
          },
          "metadata": {},
          "execution_count": 146
        }
      ]
    },
    {
      "cell_type": "code",
      "source": [
        "#computes and displays summary statistics for a Service_Request_csv dataframe\n",
        "Service_Request_csv.describe()"
      ],
      "metadata": {
        "colab": {
          "base_uri": "https://localhost:8080/",
          "height": 416
        },
        "id": "6KQKxRmBVn_E",
        "outputId": "b5420094-5446-4205-e83b-835647de6ac6"
      },
      "execution_count": 147,
      "outputs": [
        {
          "output_type": "execute_result",
          "data": {
            "text/html": [
              "\n",
              "  <div id=\"df-4a96585a-c906-4178-82a1-89530238e3f9\">\n",
              "    <div class=\"colab-df-container\">\n",
              "      <div>\n",
              "<style scoped>\n",
              "    .dataframe tbody tr th:only-of-type {\n",
              "        vertical-align: middle;\n",
              "    }\n",
              "\n",
              "    .dataframe tbody tr th {\n",
              "        vertical-align: top;\n",
              "    }\n",
              "\n",
              "    .dataframe thead th {\n",
              "        text-align: right;\n",
              "    }\n",
              "</style>\n",
              "<table border=\"1\" class=\"dataframe\">\n",
              "  <thead>\n",
              "    <tr style=\"text-align: right;\">\n",
              "      <th></th>\n",
              "      <th>Unique Key</th>\n",
              "      <th>Incident Zip</th>\n",
              "      <th>X Coordinate (State Plane)</th>\n",
              "      <th>Y Coordinate (State Plane)</th>\n",
              "      <th>School or Citywide Complaint</th>\n",
              "      <th>Vehicle Type</th>\n",
              "      <th>Taxi Company Borough</th>\n",
              "      <th>Taxi Pick Up Location</th>\n",
              "      <th>Garage Lot Name</th>\n",
              "      <th>Latitude</th>\n",
              "      <th>Longitude</th>\n",
              "    </tr>\n",
              "  </thead>\n",
              "  <tbody>\n",
              "    <tr>\n",
              "      <th>count</th>\n",
              "      <td>3.006980e+05</td>\n",
              "      <td>298083.000000</td>\n",
              "      <td>2.971580e+05</td>\n",
              "      <td>297158.000000</td>\n",
              "      <td>0.0</td>\n",
              "      <td>0.0</td>\n",
              "      <td>0.0</td>\n",
              "      <td>0.0</td>\n",
              "      <td>0.0</td>\n",
              "      <td>297158.000000</td>\n",
              "      <td>297158.000000</td>\n",
              "    </tr>\n",
              "    <tr>\n",
              "      <th>mean</th>\n",
              "      <td>3.130054e+07</td>\n",
              "      <td>10848.888645</td>\n",
              "      <td>1.004854e+06</td>\n",
              "      <td>203754.534416</td>\n",
              "      <td>NaN</td>\n",
              "      <td>NaN</td>\n",
              "      <td>NaN</td>\n",
              "      <td>NaN</td>\n",
              "      <td>NaN</td>\n",
              "      <td>40.725885</td>\n",
              "      <td>-73.925630</td>\n",
              "    </tr>\n",
              "    <tr>\n",
              "      <th>std</th>\n",
              "      <td>5.738547e+05</td>\n",
              "      <td>583.182081</td>\n",
              "      <td>2.175338e+04</td>\n",
              "      <td>29880.183529</td>\n",
              "      <td>NaN</td>\n",
              "      <td>NaN</td>\n",
              "      <td>NaN</td>\n",
              "      <td>NaN</td>\n",
              "      <td>NaN</td>\n",
              "      <td>0.082012</td>\n",
              "      <td>0.078454</td>\n",
              "    </tr>\n",
              "    <tr>\n",
              "      <th>min</th>\n",
              "      <td>3.027948e+07</td>\n",
              "      <td>83.000000</td>\n",
              "      <td>9.133570e+05</td>\n",
              "      <td>121219.000000</td>\n",
              "      <td>NaN</td>\n",
              "      <td>NaN</td>\n",
              "      <td>NaN</td>\n",
              "      <td>NaN</td>\n",
              "      <td>NaN</td>\n",
              "      <td>40.499135</td>\n",
              "      <td>-74.254937</td>\n",
              "    </tr>\n",
              "    <tr>\n",
              "      <th>25%</th>\n",
              "      <td>3.080118e+07</td>\n",
              "      <td>10310.000000</td>\n",
              "      <td>9.919752e+05</td>\n",
              "      <td>183343.000000</td>\n",
              "      <td>NaN</td>\n",
              "      <td>NaN</td>\n",
              "      <td>NaN</td>\n",
              "      <td>NaN</td>\n",
              "      <td>NaN</td>\n",
              "      <td>40.669796</td>\n",
              "      <td>-73.972142</td>\n",
              "    </tr>\n",
              "    <tr>\n",
              "      <th>50%</th>\n",
              "      <td>3.130436e+07</td>\n",
              "      <td>11208.000000</td>\n",
              "      <td>1.003158e+06</td>\n",
              "      <td>201110.500000</td>\n",
              "      <td>NaN</td>\n",
              "      <td>NaN</td>\n",
              "      <td>NaN</td>\n",
              "      <td>NaN</td>\n",
              "      <td>NaN</td>\n",
              "      <td>40.718661</td>\n",
              "      <td>-73.931781</td>\n",
              "    </tr>\n",
              "    <tr>\n",
              "      <th>75%</th>\n",
              "      <td>3.178446e+07</td>\n",
              "      <td>11238.000000</td>\n",
              "      <td>1.018372e+06</td>\n",
              "      <td>224125.250000</td>\n",
              "      <td>NaN</td>\n",
              "      <td>NaN</td>\n",
              "      <td>NaN</td>\n",
              "      <td>NaN</td>\n",
              "      <td>NaN</td>\n",
              "      <td>40.781840</td>\n",
              "      <td>-73.876805</td>\n",
              "    </tr>\n",
              "    <tr>\n",
              "      <th>max</th>\n",
              "      <td>3.231065e+07</td>\n",
              "      <td>11697.000000</td>\n",
              "      <td>1.067173e+06</td>\n",
              "      <td>271876.000000</td>\n",
              "      <td>NaN</td>\n",
              "      <td>NaN</td>\n",
              "      <td>NaN</td>\n",
              "      <td>NaN</td>\n",
              "      <td>NaN</td>\n",
              "      <td>40.912869</td>\n",
              "      <td>-73.700760</td>\n",
              "    </tr>\n",
              "  </tbody>\n",
              "</table>\n",
              "</div>\n",
              "      <button class=\"colab-df-convert\" onclick=\"convertToInteractive('df-4a96585a-c906-4178-82a1-89530238e3f9')\"\n",
              "              title=\"Convert this dataframe to an interactive table.\"\n",
              "              style=\"display:none;\">\n",
              "        \n",
              "  <svg xmlns=\"http://www.w3.org/2000/svg\" height=\"24px\"viewBox=\"0 0 24 24\"\n",
              "       width=\"24px\">\n",
              "    <path d=\"M0 0h24v24H0V0z\" fill=\"none\"/>\n",
              "    <path d=\"M18.56 5.44l.94 2.06.94-2.06 2.06-.94-2.06-.94-.94-2.06-.94 2.06-2.06.94zm-11 1L8.5 8.5l.94-2.06 2.06-.94-2.06-.94L8.5 2.5l-.94 2.06-2.06.94zm10 10l.94 2.06.94-2.06 2.06-.94-2.06-.94-.94-2.06-.94 2.06-2.06.94z\"/><path d=\"M17.41 7.96l-1.37-1.37c-.4-.4-.92-.59-1.43-.59-.52 0-1.04.2-1.43.59L10.3 9.45l-7.72 7.72c-.78.78-.78 2.05 0 2.83L4 21.41c.39.39.9.59 1.41.59.51 0 1.02-.2 1.41-.59l7.78-7.78 2.81-2.81c.8-.78.8-2.07 0-2.86zM5.41 20L4 18.59l7.72-7.72 1.47 1.35L5.41 20z\"/>\n",
              "  </svg>\n",
              "      </button>\n",
              "      \n",
              "  <style>\n",
              "    .colab-df-container {\n",
              "      display:flex;\n",
              "      flex-wrap:wrap;\n",
              "      gap: 12px;\n",
              "    }\n",
              "\n",
              "    .colab-df-convert {\n",
              "      background-color: #E8F0FE;\n",
              "      border: none;\n",
              "      border-radius: 50%;\n",
              "      cursor: pointer;\n",
              "      display: none;\n",
              "      fill: #1967D2;\n",
              "      height: 32px;\n",
              "      padding: 0 0 0 0;\n",
              "      width: 32px;\n",
              "    }\n",
              "\n",
              "    .colab-df-convert:hover {\n",
              "      background-color: #E2EBFA;\n",
              "      box-shadow: 0px 1px 2px rgba(60, 64, 67, 0.3), 0px 1px 3px 1px rgba(60, 64, 67, 0.15);\n",
              "      fill: #174EA6;\n",
              "    }\n",
              "\n",
              "    [theme=dark] .colab-df-convert {\n",
              "      background-color: #3B4455;\n",
              "      fill: #D2E3FC;\n",
              "    }\n",
              "\n",
              "    [theme=dark] .colab-df-convert:hover {\n",
              "      background-color: #434B5C;\n",
              "      box-shadow: 0px 1px 3px 1px rgba(0, 0, 0, 0.15);\n",
              "      filter: drop-shadow(0px 1px 2px rgba(0, 0, 0, 0.3));\n",
              "      fill: #FFFFFF;\n",
              "    }\n",
              "  </style>\n",
              "\n",
              "      <script>\n",
              "        const buttonEl =\n",
              "          document.querySelector('#df-4a96585a-c906-4178-82a1-89530238e3f9 button.colab-df-convert');\n",
              "        buttonEl.style.display =\n",
              "          google.colab.kernel.accessAllowed ? 'block' : 'none';\n",
              "\n",
              "        async function convertToInteractive(key) {\n",
              "          const element = document.querySelector('#df-4a96585a-c906-4178-82a1-89530238e3f9');\n",
              "          const dataTable =\n",
              "            await google.colab.kernel.invokeFunction('convertToInteractive',\n",
              "                                                     [key], {});\n",
              "          if (!dataTable) return;\n",
              "\n",
              "          const docLinkHtml = 'Like what you see? Visit the ' +\n",
              "            '<a target=\"_blank\" href=https://colab.research.google.com/notebooks/data_table.ipynb>data table notebook</a>'\n",
              "            + ' to learn more about interactive tables.';\n",
              "          element.innerHTML = '';\n",
              "          dataTable['output_type'] = 'display_data';\n",
              "          await google.colab.output.renderOutput(dataTable, element);\n",
              "          const docLink = document.createElement('div');\n",
              "          docLink.innerHTML = docLinkHtml;\n",
              "          element.appendChild(docLink);\n",
              "        }\n",
              "      </script>\n",
              "    </div>\n",
              "  </div>\n",
              "  "
            ],
            "text/plain": [
              "         Unique Key   Incident Zip  ...       Latitude      Longitude\n",
              "count  3.006980e+05  298083.000000  ...  297158.000000  297158.000000\n",
              "mean   3.130054e+07   10848.888645  ...      40.725885     -73.925630\n",
              "std    5.738547e+05     583.182081  ...       0.082012       0.078454\n",
              "min    3.027948e+07      83.000000  ...      40.499135     -74.254937\n",
              "25%    3.080118e+07   10310.000000  ...      40.669796     -73.972142\n",
              "50%    3.130436e+07   11208.000000  ...      40.718661     -73.931781\n",
              "75%    3.178446e+07   11238.000000  ...      40.781840     -73.876805\n",
              "max    3.231065e+07   11697.000000  ...      40.912869     -73.700760\n",
              "\n",
              "[8 rows x 11 columns]"
            ]
          },
          "metadata": {},
          "execution_count": 147
        }
      ]
    },
    {
      "cell_type": "code",
      "source": [
        "#create a custom dataframe with Complaint Type & City\n",
        "customDataObject={'count':Service_Request_csv.groupby(['Complaint Type','City']).size()}\n",
        "ComplaintTypeCity = pd.DataFrame(customDataObject).reset_index()"
      ],
      "metadata": {
        "id": "oiTQGHuTWIMy"
      },
      "execution_count": 148,
      "outputs": []
    },
    {
      "cell_type": "code",
      "source": [
        "#show the custom complaint type city\n",
        "ComplaintTypeCity"
      ],
      "metadata": {
        "colab": {
          "base_uri": "https://localhost:8080/",
          "height": 424
        },
        "id": "NbeMAQoBX9Ms",
        "outputId": "43c2ed26-ebfa-4996-dcb1-763f5a0c3d0e"
      },
      "execution_count": 149,
      "outputs": [
        {
          "output_type": "execute_result",
          "data": {
            "text/html": [
              "\n",
              "  <div id=\"df-bfc8d4b7-ad3e-47da-9cf1-6daa3e22e24a\">\n",
              "    <div class=\"colab-df-container\">\n",
              "      <div>\n",
              "<style scoped>\n",
              "    .dataframe tbody tr th:only-of-type {\n",
              "        vertical-align: middle;\n",
              "    }\n",
              "\n",
              "    .dataframe tbody tr th {\n",
              "        vertical-align: top;\n",
              "    }\n",
              "\n",
              "    .dataframe thead th {\n",
              "        text-align: right;\n",
              "    }\n",
              "</style>\n",
              "<table border=\"1\" class=\"dataframe\">\n",
              "  <thead>\n",
              "    <tr style=\"text-align: right;\">\n",
              "      <th></th>\n",
              "      <th>Complaint Type</th>\n",
              "      <th>City</th>\n",
              "      <th>count</th>\n",
              "    </tr>\n",
              "  </thead>\n",
              "  <tbody>\n",
              "    <tr>\n",
              "      <th>0</th>\n",
              "      <td>Animal Abuse</td>\n",
              "      <td>ARVERNE</td>\n",
              "      <td>38</td>\n",
              "    </tr>\n",
              "    <tr>\n",
              "      <th>1</th>\n",
              "      <td>Animal Abuse</td>\n",
              "      <td>ASTORIA</td>\n",
              "      <td>125</td>\n",
              "    </tr>\n",
              "    <tr>\n",
              "      <th>2</th>\n",
              "      <td>Animal Abuse</td>\n",
              "      <td>BAYSIDE</td>\n",
              "      <td>37</td>\n",
              "    </tr>\n",
              "    <tr>\n",
              "      <th>3</th>\n",
              "      <td>Animal Abuse</td>\n",
              "      <td>BELLEROSE</td>\n",
              "      <td>7</td>\n",
              "    </tr>\n",
              "    <tr>\n",
              "      <th>4</th>\n",
              "      <td>Animal Abuse</td>\n",
              "      <td>BREEZY POINT</td>\n",
              "      <td>2</td>\n",
              "    </tr>\n",
              "    <tr>\n",
              "      <th>...</th>\n",
              "      <td>...</td>\n",
              "      <td>...</td>\n",
              "      <td>...</td>\n",
              "    </tr>\n",
              "    <tr>\n",
              "      <th>759</th>\n",
              "      <td>Vending</td>\n",
              "      <td>STATEN ISLAND</td>\n",
              "      <td>25</td>\n",
              "    </tr>\n",
              "    <tr>\n",
              "      <th>760</th>\n",
              "      <td>Vending</td>\n",
              "      <td>SUNNYSIDE</td>\n",
              "      <td>15</td>\n",
              "    </tr>\n",
              "    <tr>\n",
              "      <th>761</th>\n",
              "      <td>Vending</td>\n",
              "      <td>WHITESTONE</td>\n",
              "      <td>1</td>\n",
              "    </tr>\n",
              "    <tr>\n",
              "      <th>762</th>\n",
              "      <td>Vending</td>\n",
              "      <td>WOODHAVEN</td>\n",
              "      <td>6</td>\n",
              "    </tr>\n",
              "    <tr>\n",
              "      <th>763</th>\n",
              "      <td>Vending</td>\n",
              "      <td>WOODSIDE</td>\n",
              "      <td>15</td>\n",
              "    </tr>\n",
              "  </tbody>\n",
              "</table>\n",
              "<p>764 rows × 3 columns</p>\n",
              "</div>\n",
              "      <button class=\"colab-df-convert\" onclick=\"convertToInteractive('df-bfc8d4b7-ad3e-47da-9cf1-6daa3e22e24a')\"\n",
              "              title=\"Convert this dataframe to an interactive table.\"\n",
              "              style=\"display:none;\">\n",
              "        \n",
              "  <svg xmlns=\"http://www.w3.org/2000/svg\" height=\"24px\"viewBox=\"0 0 24 24\"\n",
              "       width=\"24px\">\n",
              "    <path d=\"M0 0h24v24H0V0z\" fill=\"none\"/>\n",
              "    <path d=\"M18.56 5.44l.94 2.06.94-2.06 2.06-.94-2.06-.94-.94-2.06-.94 2.06-2.06.94zm-11 1L8.5 8.5l.94-2.06 2.06-.94-2.06-.94L8.5 2.5l-.94 2.06-2.06.94zm10 10l.94 2.06.94-2.06 2.06-.94-2.06-.94-.94-2.06-.94 2.06-2.06.94z\"/><path d=\"M17.41 7.96l-1.37-1.37c-.4-.4-.92-.59-1.43-.59-.52 0-1.04.2-1.43.59L10.3 9.45l-7.72 7.72c-.78.78-.78 2.05 0 2.83L4 21.41c.39.39.9.59 1.41.59.51 0 1.02-.2 1.41-.59l7.78-7.78 2.81-2.81c.8-.78.8-2.07 0-2.86zM5.41 20L4 18.59l7.72-7.72 1.47 1.35L5.41 20z\"/>\n",
              "  </svg>\n",
              "      </button>\n",
              "      \n",
              "  <style>\n",
              "    .colab-df-container {\n",
              "      display:flex;\n",
              "      flex-wrap:wrap;\n",
              "      gap: 12px;\n",
              "    }\n",
              "\n",
              "    .colab-df-convert {\n",
              "      background-color: #E8F0FE;\n",
              "      border: none;\n",
              "      border-radius: 50%;\n",
              "      cursor: pointer;\n",
              "      display: none;\n",
              "      fill: #1967D2;\n",
              "      height: 32px;\n",
              "      padding: 0 0 0 0;\n",
              "      width: 32px;\n",
              "    }\n",
              "\n",
              "    .colab-df-convert:hover {\n",
              "      background-color: #E2EBFA;\n",
              "      box-shadow: 0px 1px 2px rgba(60, 64, 67, 0.3), 0px 1px 3px 1px rgba(60, 64, 67, 0.15);\n",
              "      fill: #174EA6;\n",
              "    }\n",
              "\n",
              "    [theme=dark] .colab-df-convert {\n",
              "      background-color: #3B4455;\n",
              "      fill: #D2E3FC;\n",
              "    }\n",
              "\n",
              "    [theme=dark] .colab-df-convert:hover {\n",
              "      background-color: #434B5C;\n",
              "      box-shadow: 0px 1px 3px 1px rgba(0, 0, 0, 0.15);\n",
              "      filter: drop-shadow(0px 1px 2px rgba(0, 0, 0, 0.3));\n",
              "      fill: #FFFFFF;\n",
              "    }\n",
              "  </style>\n",
              "\n",
              "      <script>\n",
              "        const buttonEl =\n",
              "          document.querySelector('#df-bfc8d4b7-ad3e-47da-9cf1-6daa3e22e24a button.colab-df-convert');\n",
              "        buttonEl.style.display =\n",
              "          google.colab.kernel.accessAllowed ? 'block' : 'none';\n",
              "\n",
              "        async function convertToInteractive(key) {\n",
              "          const element = document.querySelector('#df-bfc8d4b7-ad3e-47da-9cf1-6daa3e22e24a');\n",
              "          const dataTable =\n",
              "            await google.colab.kernel.invokeFunction('convertToInteractive',\n",
              "                                                     [key], {});\n",
              "          if (!dataTable) return;\n",
              "\n",
              "          const docLinkHtml = 'Like what you see? Visit the ' +\n",
              "            '<a target=\"_blank\" href=https://colab.research.google.com/notebooks/data_table.ipynb>data table notebook</a>'\n",
              "            + ' to learn more about interactive tables.';\n",
              "          element.innerHTML = '';\n",
              "          dataTable['output_type'] = 'display_data';\n",
              "          await google.colab.output.renderOutput(dataTable, element);\n",
              "          const docLink = document.createElement('div');\n",
              "          docLink.innerHTML = docLinkHtml;\n",
              "          element.appendChild(docLink);\n",
              "        }\n",
              "      </script>\n",
              "    </div>\n",
              "  </div>\n",
              "  "
            ],
            "text/plain": [
              "    Complaint Type           City  count\n",
              "0     Animal Abuse        ARVERNE     38\n",
              "1     Animal Abuse        ASTORIA    125\n",
              "2     Animal Abuse        BAYSIDE     37\n",
              "3     Animal Abuse      BELLEROSE      7\n",
              "4     Animal Abuse   BREEZY POINT      2\n",
              "..             ...            ...    ...\n",
              "759        Vending  STATEN ISLAND     25\n",
              "760        Vending      SUNNYSIDE     15\n",
              "761        Vending     WHITESTONE      1\n",
              "762        Vending      WOODHAVEN      6\n",
              "763        Vending       WOODSIDE     15\n",
              "\n",
              "[764 rows x 3 columns]"
            ]
          },
          "metadata": {},
          "execution_count": 149
        }
      ]
    },
    {
      "cell_type": "code",
      "source": [
        "\n",
        "#just show first five rows from the dataset\n",
        "ComplaintTypeCity.head()"
      ],
      "metadata": {
        "colab": {
          "base_uri": "https://localhost:8080/",
          "height": 206
        },
        "id": "dmv3oGIIXo1n",
        "outputId": "fe416ba7-7259-4604-bb4e-b1d722788bd1"
      },
      "execution_count": 150,
      "outputs": [
        {
          "output_type": "execute_result",
          "data": {
            "text/html": [
              "\n",
              "  <div id=\"df-7e40fa72-5491-4ee2-9fc6-9cd1f7a51a8a\">\n",
              "    <div class=\"colab-df-container\">\n",
              "      <div>\n",
              "<style scoped>\n",
              "    .dataframe tbody tr th:only-of-type {\n",
              "        vertical-align: middle;\n",
              "    }\n",
              "\n",
              "    .dataframe tbody tr th {\n",
              "        vertical-align: top;\n",
              "    }\n",
              "\n",
              "    .dataframe thead th {\n",
              "        text-align: right;\n",
              "    }\n",
              "</style>\n",
              "<table border=\"1\" class=\"dataframe\">\n",
              "  <thead>\n",
              "    <tr style=\"text-align: right;\">\n",
              "      <th></th>\n",
              "      <th>Complaint Type</th>\n",
              "      <th>City</th>\n",
              "      <th>count</th>\n",
              "    </tr>\n",
              "  </thead>\n",
              "  <tbody>\n",
              "    <tr>\n",
              "      <th>0</th>\n",
              "      <td>Animal Abuse</td>\n",
              "      <td>ARVERNE</td>\n",
              "      <td>38</td>\n",
              "    </tr>\n",
              "    <tr>\n",
              "      <th>1</th>\n",
              "      <td>Animal Abuse</td>\n",
              "      <td>ASTORIA</td>\n",
              "      <td>125</td>\n",
              "    </tr>\n",
              "    <tr>\n",
              "      <th>2</th>\n",
              "      <td>Animal Abuse</td>\n",
              "      <td>BAYSIDE</td>\n",
              "      <td>37</td>\n",
              "    </tr>\n",
              "    <tr>\n",
              "      <th>3</th>\n",
              "      <td>Animal Abuse</td>\n",
              "      <td>BELLEROSE</td>\n",
              "      <td>7</td>\n",
              "    </tr>\n",
              "    <tr>\n",
              "      <th>4</th>\n",
              "      <td>Animal Abuse</td>\n",
              "      <td>BREEZY POINT</td>\n",
              "      <td>2</td>\n",
              "    </tr>\n",
              "  </tbody>\n",
              "</table>\n",
              "</div>\n",
              "      <button class=\"colab-df-convert\" onclick=\"convertToInteractive('df-7e40fa72-5491-4ee2-9fc6-9cd1f7a51a8a')\"\n",
              "              title=\"Convert this dataframe to an interactive table.\"\n",
              "              style=\"display:none;\">\n",
              "        \n",
              "  <svg xmlns=\"http://www.w3.org/2000/svg\" height=\"24px\"viewBox=\"0 0 24 24\"\n",
              "       width=\"24px\">\n",
              "    <path d=\"M0 0h24v24H0V0z\" fill=\"none\"/>\n",
              "    <path d=\"M18.56 5.44l.94 2.06.94-2.06 2.06-.94-2.06-.94-.94-2.06-.94 2.06-2.06.94zm-11 1L8.5 8.5l.94-2.06 2.06-.94-2.06-.94L8.5 2.5l-.94 2.06-2.06.94zm10 10l.94 2.06.94-2.06 2.06-.94-2.06-.94-.94-2.06-.94 2.06-2.06.94z\"/><path d=\"M17.41 7.96l-1.37-1.37c-.4-.4-.92-.59-1.43-.59-.52 0-1.04.2-1.43.59L10.3 9.45l-7.72 7.72c-.78.78-.78 2.05 0 2.83L4 21.41c.39.39.9.59 1.41.59.51 0 1.02-.2 1.41-.59l7.78-7.78 2.81-2.81c.8-.78.8-2.07 0-2.86zM5.41 20L4 18.59l7.72-7.72 1.47 1.35L5.41 20z\"/>\n",
              "  </svg>\n",
              "      </button>\n",
              "      \n",
              "  <style>\n",
              "    .colab-df-container {\n",
              "      display:flex;\n",
              "      flex-wrap:wrap;\n",
              "      gap: 12px;\n",
              "    }\n",
              "\n",
              "    .colab-df-convert {\n",
              "      background-color: #E8F0FE;\n",
              "      border: none;\n",
              "      border-radius: 50%;\n",
              "      cursor: pointer;\n",
              "      display: none;\n",
              "      fill: #1967D2;\n",
              "      height: 32px;\n",
              "      padding: 0 0 0 0;\n",
              "      width: 32px;\n",
              "    }\n",
              "\n",
              "    .colab-df-convert:hover {\n",
              "      background-color: #E2EBFA;\n",
              "      box-shadow: 0px 1px 2px rgba(60, 64, 67, 0.3), 0px 1px 3px 1px rgba(60, 64, 67, 0.15);\n",
              "      fill: #174EA6;\n",
              "    }\n",
              "\n",
              "    [theme=dark] .colab-df-convert {\n",
              "      background-color: #3B4455;\n",
              "      fill: #D2E3FC;\n",
              "    }\n",
              "\n",
              "    [theme=dark] .colab-df-convert:hover {\n",
              "      background-color: #434B5C;\n",
              "      box-shadow: 0px 1px 3px 1px rgba(0, 0, 0, 0.15);\n",
              "      filter: drop-shadow(0px 1px 2px rgba(0, 0, 0, 0.3));\n",
              "      fill: #FFFFFF;\n",
              "    }\n",
              "  </style>\n",
              "\n",
              "      <script>\n",
              "        const buttonEl =\n",
              "          document.querySelector('#df-7e40fa72-5491-4ee2-9fc6-9cd1f7a51a8a button.colab-df-convert');\n",
              "        buttonEl.style.display =\n",
              "          google.colab.kernel.accessAllowed ? 'block' : 'none';\n",
              "\n",
              "        async function convertToInteractive(key) {\n",
              "          const element = document.querySelector('#df-7e40fa72-5491-4ee2-9fc6-9cd1f7a51a8a');\n",
              "          const dataTable =\n",
              "            await google.colab.kernel.invokeFunction('convertToInteractive',\n",
              "                                                     [key], {});\n",
              "          if (!dataTable) return;\n",
              "\n",
              "          const docLinkHtml = 'Like what you see? Visit the ' +\n",
              "            '<a target=\"_blank\" href=https://colab.research.google.com/notebooks/data_table.ipynb>data table notebook</a>'\n",
              "            + ' to learn more about interactive tables.';\n",
              "          element.innerHTML = '';\n",
              "          dataTable['output_type'] = 'display_data';\n",
              "          await google.colab.output.renderOutput(dataTable, element);\n",
              "          const docLink = document.createElement('div');\n",
              "          docLink.innerHTML = docLinkHtml;\n",
              "          element.appendChild(docLink);\n",
              "        }\n",
              "      </script>\n",
              "    </div>\n",
              "  </div>\n",
              "  "
            ],
            "text/plain": [
              "  Complaint Type          City  count\n",
              "0   Animal Abuse       ARVERNE     38\n",
              "1   Animal Abuse       ASTORIA    125\n",
              "2   Animal Abuse       BAYSIDE     37\n",
              "3   Animal Abuse     BELLEROSE      7\n",
              "4   Animal Abuse  BREEZY POINT      2"
            ]
          },
          "metadata": {},
          "execution_count": 150
        }
      ]
    },
    {
      "cell_type": "code",
      "source": [
        "#get the individual column size for the column name Borough, Complaint Type & Descriptor\n",
        "#get an array of column name\n",
        "getColumnArray=[\"Borough\",\"Complaint Type\",\"Descriptor\"]\n",
        "Service_Request_csv.groupby(getColumnArray).size()"
      ],
      "metadata": {
        "colab": {
          "base_uri": "https://localhost:8080/"
        },
        "id": "dh1tyyBlYHeK",
        "outputId": "7b0c5e71-61de-45b9-ba0d-25f4812e2e41"
      },
      "execution_count": 151,
      "outputs": [
        {
          "output_type": "execute_result",
          "data": {
            "text/plain": [
              "Borough      Complaint Type         Descriptor               \n",
              "BRONX        Animal Abuse           Chained                      132\n",
              "                                    In Car                        36\n",
              "                                    Neglected                    673\n",
              "                                    No Shelter                    71\n",
              "                                    Other (complaint details)    311\n",
              "                                                                ... \n",
              "Unspecified  Noise - Vehicle        Engine Idling                 11\n",
              "             Posting Advertisement  Vehicle                        1\n",
              "             Traffic                Truck Route Violation          1\n",
              "             Vending                In Prohibited Area             2\n",
              "                                    Unlicensed                     5\n",
              "Length: 288, dtype: int64"
            ]
          },
          "metadata": {},
          "execution_count": 151
        }
      ]
    },
    {
      "cell_type": "markdown",
      "source": [
        "**Python Dates**\n",
        "A date in Python is not a data type of its own, but we can import a module named datetime to work with dates as date objects."
      ],
      "metadata": {
        "id": "OF4o0OFvaPaj"
      }
    },
    {
      "cell_type": "code",
      "source": [
        "import datetime"
      ],
      "metadata": {
        "id": "i7vRbiT-aCDi"
      },
      "execution_count": 152,
      "outputs": []
    },
    {
      "cell_type": "code",
      "source": [
        "#Create a dataframe with parsed date\n",
        "#If True and parse_dates is enabled, pandas will attempt to infer the format of the datetime strings in the columns.\n",
        "Service_Request_csv_withParsedDate=pd.read_csv(\n",
        "    \"311_Service_Requests_from_2010_to_Present.csv\", \n",
        "    parse_dates=[\"Created Date\",\"Closed Date\"])"
      ],
      "metadata": {
        "colab": {
          "base_uri": "https://localhost:8080/"
        },
        "id": "AipcNfeLe5pz",
        "outputId": "d1b4dbd5-4a07-4c35-c03b-fbe13779b531"
      },
      "execution_count": 153,
      "outputs": [
        {
          "output_type": "stream",
          "name": "stderr",
          "text": [
            "/usr/local/lib/python3.7/dist-packages/IPython/core/interactiveshell.py:2718: DtypeWarning: Columns (48,49) have mixed types.Specify dtype option on import or set low_memory=False.\n",
            "  interactivity=interactivity, compiler=compiler, result=result)\n"
          ]
        }
      ]
    },
    {
      "cell_type": "code",
      "source": [
        "#calculate the Request Closing Time \n",
        "Service_Request_csv_withParsedDate[\"Request_Closing_Time\"] = Service_Request_csv_withParsedDate[\"Closed Date\"] - Service_Request_csv_withParsedDate[\"Created Date\"] "
      ],
      "metadata": {
        "id": "f3KBXl6VgVuy"
      },
      "execution_count": 154,
      "outputs": []
    },
    {
      "cell_type": "code",
      "source": [
        "#Visualize the status of the ticket\n",
        "Service_Request_csv_withParsedDate[\"Status\"].value_counts().plot(kind='bar',alpha=0.6,figsize=(7,7))\n",
        "plt.show()"
      ],
      "metadata": {
        "colab": {
          "base_uri": "https://localhost:8080/",
          "height": 464
        },
        "id": "8IvnEH0Zgrpl",
        "outputId": "b302b568-de54-4acf-fa9b-c2d05e284670"
      },
      "execution_count": 155,
      "outputs": [
        {
          "output_type": "display_data",
          "data": {
            "image/png": "[encoded data removed]",
            "text/plain": [
              "<Figure size 504x504 with 1 Axes>"
            ]
          },
          "metadata": {
            "needs_background": "light"
          }
        }
      ]
    },
    {
      "cell_type": "markdown",
      "source": [
        "Matplotlib is a library in Python and it is numerical – mathematical extension for NumPy library. \n",
        "#The figure module provides the top-level Artist, the Figure, which contains all the plot elements. \n",
        "#This module is used to control the default spacing of the subplots and top level container for all plot elements"
      ],
      "metadata": {
        "id": "Yp0nsEIqiBaS"
      }
    },
    {
      "cell_type": "code",
      "source": [
        "#Complaint type Breakdown with bar plot to figure out majority of complaint types and top 10 complaints\n",
        "#Matplotlib is a library in Python and it is numerical – mathematical extension for NumPy library. \n",
        "Service_Request_csv[\"Complaint Type\"].value_counts().head(10).plot(kind='barh',figsize=(5,5))"
      ],
      "metadata": {
        "colab": {
          "base_uri": "https://localhost:8080/",
          "height": 337
        },
        "id": "mPLcasO4hKVH",
        "outputId": "914f5c15-37b6-4957-8a56-f1a0fa7b02fb"
      },
      "execution_count": 156,
      "outputs": [
        {
          "output_type": "execute_result",
          "data": {
            "text/plain": [
              "<matplotlib.axes._subplots.AxesSubplot at 0x7f7055fc3e50>"
            ]
          },
          "metadata": {},
          "execution_count": 156
        },
        {
          "output_type": "display_data",
          "data": {
            "image/png": "[encoded data removed]",
            "text/plain": [
              "<Figure size 360x360 with 1 Axes>"
            ]
          },
          "metadata": {
            "needs_background": "light"
          }
        }
      ]
    },
    {
      "cell_type": "code",
      "source": [
        "#column wise groupby & size\n",
        "Service_Request_csv.groupby([\"Borough\",\"Complaint Type\",\"Descriptor\"]).size()"
      ],
      "metadata": {
        "colab": {
          "base_uri": "https://localhost:8080/"
        },
        "id": "c2DvqWcyiIkC",
        "outputId": "7e7d39d2-cd3e-4fe3-a5ea-5bbdbea0fd6e"
      },
      "execution_count": 157,
      "outputs": [
        {
          "output_type": "execute_result",
          "data": {
            "text/plain": [
              "Borough      Complaint Type         Descriptor               \n",
              "BRONX        Animal Abuse           Chained                      132\n",
              "                                    In Car                        36\n",
              "                                    Neglected                    673\n",
              "                                    No Shelter                    71\n",
              "                                    Other (complaint details)    311\n",
              "                                                                ... \n",
              "Unspecified  Noise - Vehicle        Engine Idling                 11\n",
              "             Posting Advertisement  Vehicle                        1\n",
              "             Traffic                Truck Route Violation          1\n",
              "             Vending                In Prohibited Area             2\n",
              "                                    Unlicensed                     5\n",
              "Length: 288, dtype: int64"
            ]
          },
          "metadata": {},
          "execution_count": 157
        }
      ]
    },
    {
      "cell_type": "code",
      "source": [
        "#calculate the major complaint type\n",
        "#subset: It's an array which limits the dropping process to passed rows/columns through list.\n",
        "majorComplaints = Service_Request_csv.dropna(subset=[\"Complaint Type\"])\n",
        "majorComplaints = majorComplaints.groupby(\"Complaint Type\")\n",
        "#Pandas sort_values() function sorts a data frame in Ascending or Descending order of passed Column.\n",
        "sortedComplaintType = majorComplaints.size().sort_values(ascending=False)\n",
        "#Pandas reset_index() is a method to reset index of a Data Frame. reset_index() \n",
        "#method sets a list of integer ranging from 0 to length of data as index. ... level\n",
        "sortedComplaintType = sortedComplaintType.to_frame('count').reset_index()"
      ],
      "metadata": {
        "id": "9d-aoZCSicGO"
      },
      "execution_count": 158,
      "outputs": []
    },
    {
      "cell_type": "code",
      "source": [
        "#how many complaints are there, that list i have find out\n",
        "sortedComplaintType.head()"
      ],
      "metadata": {
        "colab": {
          "base_uri": "https://localhost:8080/",
          "height": 206
        },
        "id": "LHBfEcsxk4Hu",
        "outputId": "726f8d49-1ffe-4cad-8146-8b2a692a5c0e"
      },
      "execution_count": 159,
      "outputs": [
        {
          "output_type": "execute_result",
          "data": {
            "text/html": [
              "\n",
              "  <div id=\"df-c13930ed-4fe8-4601-bceb-afcec984fb60\">\n",
              "    <div class=\"colab-df-container\">\n",
              "      <div>\n",
              "<style scoped>\n",
              "    .dataframe tbody tr th:only-of-type {\n",
              "        vertical-align: middle;\n",
              "    }\n",
              "\n",
              "    .dataframe tbody tr th {\n",
              "        vertical-align: top;\n",
              "    }\n",
              "\n",
              "    .dataframe thead th {\n",
              "        text-align: right;\n",
              "    }\n",
              "</style>\n",
              "<table border=\"1\" class=\"dataframe\">\n",
              "  <thead>\n",
              "    <tr style=\"text-align: right;\">\n",
              "      <th></th>\n",
              "      <th>Complaint Type</th>\n",
              "      <th>count</th>\n",
              "    </tr>\n",
              "  </thead>\n",
              "  <tbody>\n",
              "    <tr>\n",
              "      <th>0</th>\n",
              "      <td>Blocked Driveway</td>\n",
              "      <td>77044</td>\n",
              "    </tr>\n",
              "    <tr>\n",
              "      <th>1</th>\n",
              "      <td>Illegal Parking</td>\n",
              "      <td>75361</td>\n",
              "    </tr>\n",
              "    <tr>\n",
              "      <th>2</th>\n",
              "      <td>Noise - Street/Sidewalk</td>\n",
              "      <td>48612</td>\n",
              "    </tr>\n",
              "    <tr>\n",
              "      <th>3</th>\n",
              "      <td>Noise - Commercial</td>\n",
              "      <td>35577</td>\n",
              "    </tr>\n",
              "    <tr>\n",
              "      <th>4</th>\n",
              "      <td>Derelict Vehicle</td>\n",
              "      <td>17718</td>\n",
              "    </tr>\n",
              "  </tbody>\n",
              "</table>\n",
              "</div>\n",
              "      <button class=\"colab-df-convert\" onclick=\"convertToInteractive('df-c13930ed-4fe8-4601-bceb-afcec984fb60')\"\n",
              "              title=\"Convert this dataframe to an interactive table.\"\n",
              "              style=\"display:none;\">\n",
              "        \n",
              "  <svg xmlns=\"http://www.w3.org/2000/svg\" height=\"24px\"viewBox=\"0 0 24 24\"\n",
              "       width=\"24px\">\n",
              "    <path d=\"M0 0h24v24H0V0z\" fill=\"none\"/>\n",
              "    <path d=\"M18.56 5.44l.94 2.06.94-2.06 2.06-.94-2.06-.94-.94-2.06-.94 2.06-2.06.94zm-11 1L8.5 8.5l.94-2.06 2.06-.94-2.06-.94L8.5 2.5l-.94 2.06-2.06.94zm10 10l.94 2.06.94-2.06 2.06-.94-2.06-.94-.94-2.06-.94 2.06-2.06.94z\"/><path d=\"M17.41 7.96l-1.37-1.37c-.4-.4-.92-.59-1.43-.59-.52 0-1.04.2-1.43.59L10.3 9.45l-7.72 7.72c-.78.78-.78 2.05 0 2.83L4 21.41c.39.39.9.59 1.41.59.51 0 1.02-.2 1.41-.59l7.78-7.78 2.81-2.81c.8-.78.8-2.07 0-2.86zM5.41 20L4 18.59l7.72-7.72 1.47 1.35L5.41 20z\"/>\n",
              "  </svg>\n",
              "      </button>\n",
              "      \n",
              "  <style>\n",
              "    .colab-df-container {\n",
              "      display:flex;\n",
              "      flex-wrap:wrap;\n",
              "      gap: 12px;\n",
              "    }\n",
              "\n",
              "    .colab-df-convert {\n",
              "      background-color: #E8F0FE;\n",
              "      border: none;\n",
              "      border-radius: 50%;\n",
              "      cursor: pointer;\n",
              "      display: none;\n",
              "      fill: #1967D2;\n",
              "      height: 32px;\n",
              "      padding: 0 0 0 0;\n",
              "      width: 32px;\n",
              "    }\n",
              "\n",
              "    .colab-df-convert:hover {\n",
              "      background-color: #E2EBFA;\n",
              "      box-shadow: 0px 1px 2px rgba(60, 64, 67, 0.3), 0px 1px 3px 1px rgba(60, 64, 67, 0.15);\n",
              "      fill: #174EA6;\n",
              "    }\n",
              "\n",
              "    [theme=dark] .colab-df-convert {\n",
              "      background-color: #3B4455;\n",
              "      fill: #D2E3FC;\n",
              "    }\n",
              "\n",
              "    [theme=dark] .colab-df-convert:hover {\n",
              "      background-color: #434B5C;\n",
              "      box-shadow: 0px 1px 3px 1px rgba(0, 0, 0, 0.15);\n",
              "      filter: drop-shadow(0px 1px 2px rgba(0, 0, 0, 0.3));\n",
              "      fill: #FFFFFF;\n",
              "    }\n",
              "  </style>\n",
              "\n",
              "      <script>\n",
              "        const buttonEl =\n",
              "          document.querySelector('#df-c13930ed-4fe8-4601-bceb-afcec984fb60 button.colab-df-convert');\n",
              "        buttonEl.style.display =\n",
              "          google.colab.kernel.accessAllowed ? 'block' : 'none';\n",
              "\n",
              "        async function convertToInteractive(key) {\n",
              "          const element = document.querySelector('#df-c13930ed-4fe8-4601-bceb-afcec984fb60');\n",
              "          const dataTable =\n",
              "            await google.colab.kernel.invokeFunction('convertToInteractive',\n",
              "                                                     [key], {});\n",
              "          if (!dataTable) return;\n",
              "\n",
              "          const docLinkHtml = 'Like what you see? Visit the ' +\n",
              "            '<a target=\"_blank\" href=https://colab.research.google.com/notebooks/data_table.ipynb>data table notebook</a>'\n",
              "            + ' to learn more about interactive tables.';\n",
              "          element.innerHTML = '';\n",
              "          dataTable['output_type'] = 'display_data';\n",
              "          await google.colab.output.renderOutput(dataTable, element);\n",
              "          const docLink = document.createElement('div');\n",
              "          docLink.innerHTML = docLinkHtml;\n",
              "          element.appendChild(docLink);\n",
              "        }\n",
              "      </script>\n",
              "    </div>\n",
              "  </div>\n",
              "  "
            ],
            "text/plain": [
              "            Complaint Type  count\n",
              "0         Blocked Driveway  77044\n",
              "1          Illegal Parking  75361\n",
              "2  Noise - Street/Sidewalk  48612\n",
              "3       Noise - Commercial  35577\n",
              "4         Derelict Vehicle  17718"
            ]
          },
          "metadata": {},
          "execution_count": 159
        }
      ]
    },
    {
      "cell_type": "code",
      "source": [
        "#create a pie chart of this complaint type\n",
        "sortedComplaintType = sortedComplaintType.head()\n",
        "plt.figure(figsize=(5,5))\n",
        "\n",
        "#We use autopct to display the percent value using Python string formatting. \n",
        "#For example, autopct='%1.1f%%' means that for each pie wedge, the format string is '1.1f%'.\n",
        "\n",
        "plt.pie(sortedComplaintType['count'], labels=sortedComplaintType['Complaint Type'], autopct=\"%1.1f%%\")\n",
        "plt.show()"
      ],
      "metadata": {
        "colab": {
          "base_uri": "https://localhost:8080/",
          "height": 303
        },
        "id": "mTajMd_DlGVQ",
        "outputId": "42a04f6e-8395-4c28-9f28-f0d5c4c7ee3d"
      },
      "execution_count": 160,
      "outputs": [
        {
          "output_type": "display_data",
          "data": {
            "image/png": "[encoded data removed]",
            "text/plain": [
              "<Figure size 360x360 with 1 Axes>"
            ]
          },
          "metadata": {}
        }
      ]
    },
    {
      "cell_type": "code",
      "source": [
        "#group dataset by complaint type to display plot against city\n",
        "grouped_by_complaint_type = Service_Request_csv.groupby('Complaint Type')"
      ],
      "metadata": {
        "id": "zjNQzuUxm3Az"
      },
      "execution_count": 161,
      "outputs": []
    },
    {
      "cell_type": "code",
      "source": [
        "#groupeddata with Blocked Driverway column type\n",
        "#get how many groups are present on Blocked Driveway\n",
        "grp_data = grouped_by_complaint_type.get_group(\"Blocked Driveway\")"
      ],
      "metadata": {
        "id": "40Plie9EnTlT"
      },
      "execution_count": 162,
      "outputs": []
    },
    {
      "cell_type": "code",
      "source": [
        "grp_data.columns.to_list()"
      ],
      "metadata": {
        "colab": {
          "base_uri": "https://localhost:8080/"
        },
        "id": "4u3tFG-D3ade",
        "outputId": "21cca713-322c-459a-fb68-0379f1c60a82"
      },
      "execution_count": 163,
      "outputs": [
        {
          "output_type": "execute_result",
          "data": {
            "text/plain": [
              "['Unique Key',\n",
              " 'Created Date',\n",
              " 'Closed Date',\n",
              " 'Agency',\n",
              " 'Agency Name',\n",
              " 'Complaint Type',\n",
              " 'Descriptor',\n",
              " 'Location Type',\n",
              " 'Incident Zip',\n",
              " 'Incident Address',\n",
              " 'Street Name',\n",
              " 'Cross Street 1',\n",
              " 'Cross Street 2',\n",
              " 'Intersection Street 1',\n",
              " 'Intersection Street 2',\n",
              " 'Address Type',\n",
              " 'City',\n",
              " 'Landmark',\n",
              " 'Facility Type',\n",
              " 'Status',\n",
              " 'Due Date',\n",
              " 'Resolution Description',\n",
              " 'Resolution Action Updated Date',\n",
              " 'Community Board',\n",
              " 'Borough',\n",
              " 'X Coordinate (State Plane)',\n",
              " 'Y Coordinate (State Plane)',\n",
              " 'Park Facility Name',\n",
              " 'Park Borough',\n",
              " 'School Name',\n",
              " 'School Number',\n",
              " 'School Region',\n",
              " 'School Code',\n",
              " 'School Phone Number',\n",
              " 'School Address',\n",
              " 'School City',\n",
              " 'School State',\n",
              " 'School Zip',\n",
              " 'School Not Found',\n",
              " 'School or Citywide Complaint',\n",
              " 'Vehicle Type',\n",
              " 'Taxi Company Borough',\n",
              " 'Taxi Pick Up Location',\n",
              " 'Bridge Highway Name',\n",
              " 'Bridge Highway Direction',\n",
              " 'Road Ramp',\n",
              " 'Bridge Highway Segment',\n",
              " 'Garage Lot Name',\n",
              " 'Ferry Direction',\n",
              " 'Ferry Terminal Name',\n",
              " 'Latitude',\n",
              " 'Longitude',\n",
              " 'Location']"
            ]
          },
          "metadata": {},
          "execution_count": 163
        }
      ]
    },
    {
      "cell_type": "code",
      "source": [
        "#how many rows & columns are present for this Blocked Driveway dataset\n",
        "grp_data.shape"
      ],
      "metadata": {
        "colab": {
          "base_uri": "https://localhost:8080/"
        },
        "id": "jpRrd1ZMnpxc",
        "outputId": "e8f0696a-5d05-40e4-8555-4ba3ae9f926f"
      },
      "execution_count": 164,
      "outputs": [
        {
          "output_type": "execute_result",
          "data": {
            "text/plain": [
              "(77044, 53)"
            ]
          },
          "metadata": {},
          "execution_count": 164
        }
      ]
    },
    {
      "cell_type": "code",
      "source": [
        "#to get the null values for this dataset\n",
        "Service_Request_csv.isnull().sum()"
      ],
      "metadata": {
        "colab": {
          "base_uri": "https://localhost:8080/"
        },
        "id": "WPyOhFgwnzMx",
        "outputId": "511dba58-39fa-4850-9327-a7b50222b6a0"
      },
      "execution_count": 165,
      "outputs": [
        {
          "output_type": "execute_result",
          "data": {
            "text/plain": [
              "Unique Key                             0\n",
              "Created Date                           0\n",
              "Closed Date                         2164\n",
              "Agency                                 0\n",
              "Agency Name                            0\n",
              "Complaint Type                         0\n",
              "Descriptor                          5914\n",
              "Location Type                        131\n",
              "Incident Zip                        2615\n",
              "Incident Address                   44410\n",
              "Street Name                        44410\n",
              "Cross Street 1                     49279\n",
              "Cross Street 2                     49779\n",
              "Intersection Street 1             256840\n",
              "Intersection Street 2             257336\n",
              "Address Type                        2815\n",
              "City                                2614\n",
              "Landmark                          300349\n",
              "Facility Type                       2171\n",
              "Status                                 0\n",
              "Due Date                               3\n",
              "Resolution Description                 0\n",
              "Resolution Action Updated Date      2187\n",
              "Community Board                        0\n",
              "Borough                                0\n",
              "X Coordinate (State Plane)          3540\n",
              "Y Coordinate (State Plane)          3540\n",
              "Park Facility Name                     0\n",
              "Park Borough                           0\n",
              "School Name                            0\n",
              "School Number                          0\n",
              "School Region                          1\n",
              "School Code                            1\n",
              "School Phone Number                    0\n",
              "School Address                         0\n",
              "School City                            0\n",
              "School State                           0\n",
              "School Zip                             1\n",
              "School Not Found                       0\n",
              "School or Citywide Complaint      300698\n",
              "Vehicle Type                      300698\n",
              "Taxi Company Borough              300698\n",
              "Taxi Pick Up Location             300698\n",
              "Bridge Highway Name               300455\n",
              "Bridge Highway Direction          300455\n",
              "Road Ramp                         300485\n",
              "Bridge Highway Segment            300485\n",
              "Garage Lot Name                   300698\n",
              "Ferry Direction                   300697\n",
              "Ferry Terminal Name               300696\n",
              "Latitude                            3540\n",
              "Longitude                           3540\n",
              "Location                            3540\n",
              "dtype: int64"
            ]
          },
          "metadata": {},
          "execution_count": 165
        }
      ]
    },
    {
      "cell_type": "code",
      "source": [
        "#drop blank values for City column\n",
        "Service_Request_csv[\"City\"].dropna(inplace=True)"
      ],
      "metadata": {
        "id": "aua_QWM3oIrG"
      },
      "execution_count": 166,
      "outputs": []
    },
    {
      "cell_type": "code",
      "source": [
        "#check shape after dropping null values\n",
        "Service_Request_csv[\"City\"].shape"
      ],
      "metadata": {
        "colab": {
          "base_uri": "https://localhost:8080/"
        },
        "id": "scOCh8kwoaM4",
        "outputId": "49a2a4ed-44de-4877-f64a-0871d990a5ec"
      },
      "execution_count": 167,
      "outputs": [
        {
          "output_type": "execute_result",
          "data": {
            "text/plain": [
              "(300698,)"
            ]
          },
          "metadata": {},
          "execution_count": 167
        }
      ]
    },
    {
      "cell_type": "code",
      "source": [
        "#count of null values in grouped city column data\n",
        "grp_data[\"City\"].isnull().sum()"
      ],
      "metadata": {
        "colab": {
          "base_uri": "https://localhost:8080/"
        },
        "id": "Qo3hRkMcok-T",
        "outputId": "20f59b1b-91c1-4244-f8d8-7e0024c4ca44"
      },
      "execution_count": 168,
      "outputs": [
        {
          "output_type": "execute_result",
          "data": {
            "text/plain": [
              "283"
            ]
          },
          "metadata": {},
          "execution_count": 168
        }
      ]
    },
    {
      "cell_type": "code",
      "source": [
        "#fix those nan values with \"Unknown city\" value instead\n",
        "#The fillna() function is used to fill NA/NaN values using the specified method.\n",
        "grp_data[\"City\"].fillna(\"Unknown City\", inplace=True)"
      ],
      "metadata": {
        "colab": {
          "base_uri": "https://localhost:8080/"
        },
        "id": "6bkPt1yyo3E_",
        "outputId": "5a9ac51b-a4e6-425a-92fb-a90d81abe009"
      },
      "execution_count": 169,
      "outputs": [
        {
          "output_type": "stream",
          "name": "stderr",
          "text": [
            "/usr/local/lib/python3.7/dist-packages/pandas/core/series.py:4536: SettingWithCopyWarning: \n",
            "A value is trying to be set on a copy of a slice from a DataFrame\n",
            "\n",
            "See the caveats in the documentation: https://pandas.pydata.org/pandas-docs/stable/user_guide/indexing.html#returning-a-view-versus-a-copy\n",
            "  downcast=downcast,\n"
          ]
        }
      ]
    },
    {
      "cell_type": "code",
      "source": [
        "#Scatter plot displaying all the cities that raised complaint of type 'Blocked Driveway'\n",
        "plt.figure(figsize=(25,15))\n",
        "plt.scatter(grp_data[\"Complaint Type\"], grp_data[\"City\"])\n",
        "plt.title(\"Plot showing list of cities that raised complaint of type Blocked Driveway\")\n",
        "plt.show()\n"
      ],
      "metadata": {
        "colab": {
          "base_uri": "https://localhost:8080/",
          "height": 547
        },
        "id": "9np08pRVptxl",
        "outputId": "9912dda2-d1dd-48d8-b6e2-42623cba693b"
      },
      "execution_count": 184,
      "outputs": [
        {
          "output_type": "display_data",
          "data": {
            "image/png": "[encoded data removed]",
            "text/plain": [
              "<Figure size 1800x1080 with 1 Axes>"
            ]
          },
          "metadata": {
            "needs_background": "light"
          }
        }
      ]
    },
    {
      "cell_type": "code",
      "source": [
        "#fix Location type those NAN with \"unknown Location\" value instead\n",
        "Service_Request_csv[\"Location Type\"].fillna(\"Unknown Loc\",inplace=True)"
      ],
      "metadata": {
        "id": "V1sTX18qwAeJ"
      },
      "execution_count": 171,
      "outputs": []
    },
    {
      "cell_type": "code",
      "source": [
        "#how many values are present for the column name Location Type\n",
        "Service_Request_csv[\"Location Type\"].values"
      ],
      "metadata": {
        "colab": {
          "base_uri": "https://localhost:8080/"
        },
        "id": "JJPI-3f0vtAh",
        "outputId": "8c71493b-bccf-417c-ab71-e9ece35e06f4"
      },
      "execution_count": 172,
      "outputs": [
        {
          "output_type": "execute_result",
          "data": {
            "text/plain": [
              "array(['Street/Sidewalk', 'Street/Sidewalk', 'Street/Sidewalk', ...,\n",
              "       'Club/Bar/Restaurant', 'Club/Bar/Restaurant', 'Store/Commercial'],\n",
              "      dtype=object)"
            ]
          },
          "metadata": {},
          "execution_count": 172
        }
      ]
    },
    {
      "cell_type": "code",
      "source": [
        "#Find top 10 major complaint types and their counts\n",
        "grouped_by_complaint_type[\"Complaint Type\"].value_counts().nlargest(10)"
      ],
      "metadata": {
        "colab": {
          "base_uri": "https://localhost:8080/"
        },
        "id": "R5URJjJcynvX",
        "outputId": "356980bf-6d83-4a25-cb84-9540d3f7130e"
      },
      "execution_count": 173,
      "outputs": [
        {
          "output_type": "execute_result",
          "data": {
            "text/plain": [
              "Complaint Type           Complaint Type         \n",
              "Blocked Driveway         Blocked Driveway           77044\n",
              "Illegal Parking          Illegal Parking            75361\n",
              "Noise - Street/Sidewalk  Noise - Street/Sidewalk    48612\n",
              "Noise - Commercial       Noise - Commercial         35577\n",
              "Derelict Vehicle         Derelict Vehicle           17718\n",
              "Noise - Vehicle          Noise - Vehicle            17083\n",
              "Animal Abuse             Animal Abuse                7778\n",
              "Traffic                  Traffic                     4498\n",
              "Homeless Encampment      Homeless Encampment         4416\n",
              "Noise - Park             Noise - Park                4042\n",
              "Name: Complaint Type, dtype: int64"
            ]
          },
          "metadata": {},
          "execution_count": 173
        }
      ]
    },
    {
      "cell_type": "code",
      "source": [
        "#fix Location type those NAN with \"unknown Location\" value instead\n",
        "Service_Request_csv[\"Location Type\"].fillna(\"Unknown Loc\", inplace=True)"
      ],
      "metadata": {
        "id": "Vrbij89Cy_3x"
      },
      "execution_count": 174,
      "outputs": []
    },
    {
      "cell_type": "code",
      "source": [
        "Service_Request_csv['Location Type'].values"
      ],
      "metadata": {
        "colab": {
          "base_uri": "https://localhost:8080/"
        },
        "id": "ZapQ6KZSzTQ9",
        "outputId": "cc4c7949-eca7-41fa-90be-3fb6e31cd676"
      },
      "execution_count": 175,
      "outputs": [
        {
          "output_type": "execute_result",
          "data": {
            "text/plain": [
              "array(['Street/Sidewalk', 'Street/Sidewalk', 'Street/Sidewalk', ...,\n",
              "       'Club/Bar/Restaurant', 'Club/Bar/Restaurant', 'Store/Commercial'],\n",
              "      dtype=object)"
            ]
          },
          "metadata": {},
          "execution_count": 175
        }
      ]
    },
    {
      "cell_type": "code",
      "source": [
        "#count of null values in grouped location type column data\n",
        "grp_data['Location Type'].isnull().sum()"
      ],
      "metadata": {
        "colab": {
          "base_uri": "https://localhost:8080/"
        },
        "id": "P-g5fTJSva6o",
        "outputId": "2cc0d59e-13e1-4e05-e8c3-7405fa5f9f8a"
      },
      "execution_count": 176,
      "outputs": [
        {
          "output_type": "execute_result",
          "data": {
            "text/plain": [
              "37"
            ]
          },
          "metadata": {},
          "execution_count": 176
        }
      ]
    },
    {
      "cell_type": "code",
      "source": [
        "#how many columns are present in group data\n",
        "grp_data.columns.to_list()"
      ],
      "metadata": {
        "colab": {
          "base_uri": "https://localhost:8080/"
        },
        "id": "4fxZE2I6z3n_",
        "outputId": "72639e89-db83-422a-bc9b-541d8925377a"
      },
      "execution_count": 177,
      "outputs": [
        {
          "output_type": "execute_result",
          "data": {
            "text/plain": [
              "['Unique Key',\n",
              " 'Created Date',\n",
              " 'Closed Date',\n",
              " 'Agency',\n",
              " 'Agency Name',\n",
              " 'Complaint Type',\n",
              " 'Descriptor',\n",
              " 'Location Type',\n",
              " 'Incident Zip',\n",
              " 'Incident Address',\n",
              " 'Street Name',\n",
              " 'Cross Street 1',\n",
              " 'Cross Street 2',\n",
              " 'Intersection Street 1',\n",
              " 'Intersection Street 2',\n",
              " 'Address Type',\n",
              " 'City',\n",
              " 'Landmark',\n",
              " 'Facility Type',\n",
              " 'Status',\n",
              " 'Due Date',\n",
              " 'Resolution Description',\n",
              " 'Resolution Action Updated Date',\n",
              " 'Community Board',\n",
              " 'Borough',\n",
              " 'X Coordinate (State Plane)',\n",
              " 'Y Coordinate (State Plane)',\n",
              " 'Park Facility Name',\n",
              " 'Park Borough',\n",
              " 'School Name',\n",
              " 'School Number',\n",
              " 'School Region',\n",
              " 'School Code',\n",
              " 'School Phone Number',\n",
              " 'School Address',\n",
              " 'School City',\n",
              " 'School State',\n",
              " 'School Zip',\n",
              " 'School Not Found',\n",
              " 'School or Citywide Complaint',\n",
              " 'Vehicle Type',\n",
              " 'Taxi Company Borough',\n",
              " 'Taxi Pick Up Location',\n",
              " 'Bridge Highway Name',\n",
              " 'Bridge Highway Direction',\n",
              " 'Road Ramp',\n",
              " 'Bridge Highway Segment',\n",
              " 'Garage Lot Name',\n",
              " 'Ferry Direction',\n",
              " 'Ferry Terminal Name',\n",
              " 'Latitude',\n",
              " 'Longitude',\n",
              " 'Location']"
            ]
          },
          "metadata": {},
          "execution_count": 177
        }
      ]
    }
  ]
}